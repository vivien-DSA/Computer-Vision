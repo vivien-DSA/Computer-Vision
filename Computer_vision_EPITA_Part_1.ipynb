{
  "nbformat": 4,
  "nbformat_minor": 0,
  "metadata": {
    "accelerator": "GPU",
    "colab": {
      "name": "Computer vision EPITA - Part 1.ipynb",
      "provenance": [],
      "collapsed_sections": [],
      "include_colab_link": true
    },
    "kernelspec": {
      "display_name": "Python 3",
      "language": "python",
      "name": "python3"
    },
    "language_info": {
      "codemirror_mode": {
        "name": "ipython",
        "version": 3
      },
      "file_extension": ".py",
      "mimetype": "text/x-python",
      "name": "python",
      "nbconvert_exporter": "python",
      "pygments_lexer": "ipython3",
      "version": "3.7.6"
    }
  },
  "cells": [
    {
      "cell_type": "markdown",
      "metadata": {
        "id": "view-in-github",
        "colab_type": "text"
      },
      "source": [
        "<a href=\"https://colab.research.google.com/github/vivien-DSA/Computer-Vision/blob/main/Computer_vision_EPITA_Part_1.ipynb\" target=\"_parent\"><img src=\"https://colab.research.google.com/assets/colab-badge.svg\" alt=\"Open In Colab\"/></a>"
      ]
    },
    {
      "cell_type": "markdown",
      "metadata": {
        "id": "vYIvjsTmUPAb"
      },
      "source": [
        "# Optical Caracter Recognition"
      ]
    },
    {
      "cell_type": "markdown",
      "metadata": {
        "id": "DnWxcD_PUdan"
      },
      "source": [
        "## Goal :\n",
        "We will see how to learn to recognize optical characters with Keras.\n",
        "\n",
        "It's all about recognizing hand-drawn numbers.\n",
        "\n",
        "This type of application is deployed for the optical reading of bank checks, for example.\n",
        "\n",
        "We are going to write a ** convolutional neural network ** to recognize handwritten characters.\n",
        "\n",
        "It is a problem of ** multiple classification ** (10 digits from 0 to 9 => 10 classes)\n",
        "\n",
        "### Note :\n",
        "Learning the model is slow.\n",
        "You can speed it up by deporting the calculations to ** GPU **."
      ]
    },
    {
      "cell_type": "markdown",
      "metadata": {
        "id": "SqXINn11WD_u"
      },
      "source": [
        "## Importing the libraries"
      ]
    },
    {
      "cell_type": "code",
      "metadata": {
        "id": "oIhR1rOxQmAy"
      },
      "source": [
        "# ==========================================\n",
        "#                   MNIST dataset\n",
        "# ==========================================\n",
        "\n",
        "from keras.datasets import mnist\n",
        "from keras import models\n",
        "from keras import layers\n",
        "from keras.utils import to_categorical\n",
        "import numpy as np\n",
        "import matplotlib.pyplot as pl"
      ],
      "execution_count": null,
      "outputs": []
    },
    {
      "cell_type": "markdown",
      "metadata": {
        "id": "mohzkg3tWLXJ"
      },
      "source": [
        "## The dataset \n",
        "\n",
        "We import the images from [MNIST](https://en.wikipedia.org/wiki/MNIST_database).\n",
        "\n",
        "MNIST : Modified National Institute of Standards and Technology\n",
        "\n",
        "It is a set of images of numbers in B&W."
      ]
    },
    {
      "cell_type": "code",
      "metadata": {
        "id": "TV72Nst2V4tz",
        "colab": {
          "base_uri": "https://localhost:8080/"
        },
        "outputId": "4e280bd2-ce81-4f4f-984a-8c6f1dcf89d4"
      },
      "source": [
        "(train_images, train_labels), (test_images, test_labels) = mnist.load_data()"
      ],
      "execution_count": null,
      "outputs": [
        {
          "output_type": "stream",
          "text": [
            "Downloading data from https://storage.googleapis.com/tensorflow/tf-keras-datasets/mnist.npz\n",
            "11493376/11490434 [==============================] - 0s 0us/step\n"
          ],
          "name": "stdout"
        }
      ]
    },
    {
      "cell_type": "code",
      "metadata": {
        "colab": {
          "base_uri": "https://localhost:8080/"
        },
        "id": "wACRTyx563Gv",
        "outputId": "893138c9-968f-4630-da54-9a9d5cf70f68"
      },
      "source": [
        "print(\"nb images = \",train_images.shape[0])\n",
        "print(\"unique label = \",np.unique(train_labels))"
      ],
      "execution_count": null,
      "outputs": [
        {
          "output_type": "stream",
          "text": [
            "nb images =  60000\n",
            "unique label =  [0 1 2 3 4 5 6 7 8 9]\n"
          ],
          "name": "stdout"
        }
      ]
    },
    {
      "cell_type": "markdown",
      "metadata": {
        "id": "uwFT6AIVs1U9"
      },
      "source": [
        "### Image format"
      ]
    },
    {
      "cell_type": "code",
      "metadata": {
        "colab": {
          "base_uri": "https://localhost:8080/"
        },
        "id": "wWDXaBGFs6s-",
        "outputId": "2bb530bb-a76f-400c-b9ec-f52bcfc71d07"
      },
      "source": [
        "train_images.shape"
      ],
      "execution_count": null,
      "outputs": [
        {
          "output_type": "execute_result",
          "data": {
            "text/plain": [
              "(60000, 28, 28)"
            ]
          },
          "metadata": {
            "tags": []
          },
          "execution_count": 6
        }
      ]
    },
    {
      "cell_type": "code",
      "metadata": {
        "colab": {
          "base_uri": "https://localhost:8080/",
          "height": 265
        },
        "id": "HmNRO-Pkyky1",
        "outputId": "e8e2a821-653b-4690-eeda-2a720bd0eb28"
      },
      "source": [
        "num_img = 18\n",
        "pl.figure()\n",
        "pl.imshow(train_images[num_img], cmap = pl.get_cmap('gray'))\n",
        "pl.show()"
      ],
      "execution_count": null,
      "outputs": [
        {
          "output_type": "display_data",
          "data": {
            "image/png": "[encoded data removed]",
            "text/plain": [
              "<Figure size 432x288 with 1 Axes>"
            ]
          },
          "metadata": {
            "tags": [],
            "needs_background": "light"
          }
        }
      ]
    },
    {
      "cell_type": "markdown",
      "metadata": {
        "id": "CSO-edguVhvP"
      },
      "source": [
        "## Data preparation\n",
        "We will successively:\n",
        "* Resize images (resize)\n",
        "* Then normalize them\n",
        "* And finally categorize them (* one-hot-encoding *)\n",
        "\n",
        "\n",
        "\n",
        "\n",
        "The images are in black and white. We add an additional dimension to take into account the color."
      ]
    },
    {
      "cell_type": "markdown",
      "metadata": {
        "id": "imDh9w78_eyE"
      },
      "source": [
        "### Resize\n",
        "\n",
        "The images must be \"resized\" in a standard analysis format.\n",
        "This format is as follows:\n",
        "\n",
        "```\n",
        "[nb_images , hauteur , largeur , channel]\n",
        "```"
      ]
    },
    {
      "cell_type": "markdown",
      "metadata": {
        "id": "rdiER61nZPUK"
      },
      "source": [
        "\n",
        "* We resize (* reshape *) to add ** a ** dimension, the *channel*.\n",
        "\n",
        "\n",
        "```\n",
        "channel = 1\n",
        "```\n",
        "\n",
        "\n",
        "If the images were in color, then we should take these ** three ** dimensions into account (RGB : red - green - blue).\n",
        "In this case,\n",
        "\n",
        "```\n",
        "channel = 3\n",
        "```\n",
        "\n",
        "The code is :\n",
        "\n",
        "\n",
        "```\n",
        "train_images.reshape((nb_images, hauteur, largeur, channel))\n",
        "```\n",
        "\n",
        "\n",
        "\n"
      ]
    },
    {
      "cell_type": "code",
      "metadata": {
        "colab": {
          "base_uri": "https://localhost:8080/"
        },
        "id": "nL2VAZnsTo6X",
        "outputId": "643637ce-21a4-4ea4-830a-914ea9eff38b"
      },
      "source": [
        "# Before modification\n",
        "train_images.shape"
      ],
      "execution_count": null,
      "outputs": [
        {
          "output_type": "execute_result",
          "data": {
            "text/plain": [
              "(60000, 28, 28)"
            ]
          },
          "metadata": {
            "tags": []
          },
          "execution_count": 9
        }
      ]
    },
    {
      "cell_type": "code",
      "metadata": {
        "id": "JceQMVGrWuya"
      },
      "source": [
        "train_images = train_images.reshape((60000, 28, 28, 1))\n",
        "test_images = test_images.reshape((10000, 28, 28, 1))"
      ],
      "execution_count": null,
      "outputs": []
    },
    {
      "cell_type": "code",
      "metadata": {
        "colab": {
          "base_uri": "https://localhost:8080/"
        },
        "id": "bsxRTnqyT2VE",
        "outputId": "1df297c8-5be7-4d8f-a471-c1e54e26e393"
      },
      "source": [
        "# After reshape \n",
        "train_images.shape"
      ],
      "execution_count": null,
      "outputs": [
        {
          "output_type": "execute_result",
          "data": {
            "text/plain": [
              "(60000, 28, 28, 1)"
            ]
          },
          "metadata": {
            "tags": []
          },
          "execution_count": 12
        }
      ]
    },
    {
      "cell_type": "markdown",
      "metadata": {
        "id": "Xal11Gw2wH-E"
      },
      "source": [
        "### Normalization of images\n",
        "We normalize the original images which are encoded on 255 levels of gray.\n",
        "The pixel values ​​will therefore be between 0 and 1\n",
        "\n",
        "\n",
        "The standardization code:\n",
        "```\n",
        "train_images.astype('float32') / 255\n",
        "```\n",
        "\n"
      ]
    },
    {
      "cell_type": "code",
      "metadata": {
        "id": "CiA-udMiVjH4"
      },
      "source": [
        "train_images = train_images.astype('float32') / 255\n",
        "test_images = test_images.astype('float32') / 255"
      ],
      "execution_count": null,
      "outputs": []
    },
    {
      "cell_type": "markdown",
      "metadata": {
        "id": "9MpHlQngbH08"
      },
      "source": [
        "### One hot encoding des labels \n",
        "Passage digit -> category\n",
        "\n",
        "The outputs (labels) are a label (between 0 and 9) which represents the value of the plotted figure.\n",
        "This is the exit that the network will have to learn to recognize.\n",
        "\n",
        "* One Hot encoding * is a classic processing.\n",
        "The corresponding French term is * codage disjonctif * (very little used).\n",
        "\n",
        "It consists in extending the ** dimension ** of the output.\n",
        "We go from a number between 0 and 9 to a vector (array) of dimension 9.\n",
        "\n",
        "\n",
        "Example of One Hot Encoding on numbers between 0 and 2 (3 classes) : \n",
        "\n",
        "0 -> {1 , 0 , 0} \n",
        "\n",
        "1 -> {0 , 1 , 0} \n",
        "\n",
        "2 -> {0 , 0 , 1} \n",
        "\n",
        "This processing facilitates the learning of deep learning models.\n",
        "\n",
        "It is imperative to know it.\n"
      ]
    },
    {
      "cell_type": "code",
      "metadata": {
        "colab": {
          "base_uri": "https://localhost:8080/"
        },
        "id": "2Nl8wY_-bZpL",
        "outputId": "50e94641-a080-40ed-adb3-670c634260fe"
      },
      "source": [
        "train_labels.shape"
      ],
      "execution_count": null,
      "outputs": [
        {
          "output_type": "execute_result",
          "data": {
            "text/plain": [
              "(60000,)"
            ]
          },
          "metadata": {
            "tags": []
          },
          "execution_count": 14
        }
      ]
    },
    {
      "cell_type": "code",
      "metadata": {
        "id": "mL_9v-YWVnTy"
      },
      "source": [
        "# One Hot Encoding\n",
        "train_labels = to_categorical(train_labels)\n",
        "test_labels = to_categorical(test_labels)"
      ],
      "execution_count": null,
      "outputs": []
    },
    {
      "cell_type": "code",
      "metadata": {
        "colab": {
          "base_uri": "https://localhost:8080/"
        },
        "id": "v5s_9uzec1V8",
        "outputId": "06fb2117-8514-495b-cf0e-64ddf6fbfc88"
      },
      "source": [
        "train_labels.shape"
      ],
      "execution_count": null,
      "outputs": [
        {
          "output_type": "execute_result",
          "data": {
            "text/plain": [
              "(60000, 10)"
            ]
          },
          "metadata": {
            "tags": []
          },
          "execution_count": 16
        }
      ]
    },
    {
      "cell_type": "code",
      "metadata": {
        "id": "tqqAGMzVxGeP",
        "colab": {
          "base_uri": "https://localhost:8080/"
        },
        "outputId": "f612349b-1620-4ec0-a7f3-51026591fe94"
      },
      "source": [
        "# Wich number ?\n",
        "print(train_labels[num_img])\n",
        "num_label = np.where(train_labels[num_img] != 0)\n",
        "print(\"It's a : \" , num_label)"
      ],
      "execution_count": null,
      "outputs": [
        {
          "output_type": "stream",
          "text": [
            "[0. 0. 0. 0. 0. 0. 1. 0. 0. 0.]\n",
            "It's a :  (array([6]),)\n"
          ],
          "name": "stdout"
        }
      ]
    },
    {
      "cell_type": "markdown",
      "metadata": {
        "id": "49TL_V2QfVre"
      },
      "source": [
        "## Deep learning : Convolutionnal Neural Network avec Keras"
      ]
    },
    {
      "cell_type": "code",
      "metadata": {
        "id": "D2lrGMtNVBhB"
      },
      "source": [
        "model = models.Sequential()\n",
        "\n",
        "# Convolution : 8 filters with 3 x 3 dimensions\n",
        "model.add(layers.Conv2D(8, (3, 3), activation='relu', input_shape=(28, 28, 1)))\n",
        "\n",
        "# Max pooling 2 x 2\n",
        "model.add(layers.MaxPooling2D((2, 2)))\n",
        "\n",
        "# Convolution #2: 16 filters with 3 x 3 dimensions\n",
        "model.add(layers.Conv2D(16, (3, 3), activation='relu'))\n",
        "model.add(layers.MaxPooling2D((2, 2)))\n",
        "\n",
        "# Convolution #3\n",
        "model.add(layers.Conv2D(16, (3, 3), activation='relu'))"
      ],
      "execution_count": null,
      "outputs": []
    },
    {
      "cell_type": "markdown",
      "metadata": {
        "id": "Ehf-TFPpgIQX"
      },
      "source": [
        "### *flatten* layer\n",
        "\n",
        "After the ** convolution ** layers, we must ** always ** add a treatment layer **Flatten**.\n",
        "\n",
        "This layer flattens the 2D structures resulting from the convolution.\n",
        "\n",
        "The * Flatten * layer ensures the passage 2D -> 1D.\n",
        "\n",
        "\n",
        "```\n",
        "model.add(layers.Flatten())\n",
        "```\n",
        "\n"
      ]
    },
    {
      "cell_type": "code",
      "metadata": {
        "id": "4BADmF60gEQ5"
      },
      "source": [
        "model.add(layers.Flatten())"
      ],
      "execution_count": null,
      "outputs": []
    },
    {
      "cell_type": "markdown",
      "metadata": {
        "id": "tGn9S4c-oZEc"
      },
      "source": [
        "### *Dense* layer\n",
        "\n",
        "The flattening layer above allows you to make the transition to the *dense* layers that follow.\n",
        "\n",
        "\n",
        "---\n",
        "**Very important**\n",
        "\n",
        "The role of the *dense* layer is to analyze the structures revealed by the convolution layers.\n",
        "The convolutional layer highlights, extracts structures which are then processed by one - or more - * dense * layer.\n",
        "\n",
        "---\n",
        "\n",
        "\n",
        "\n"
      ]
    },
    {
      "cell_type": "code",
      "metadata": {
        "id": "FQfXR1f3oaPV"
      },
      "source": [
        "model.add(layers.Dense(256, activation='relu'))"
      ],
      "execution_count": null,
      "outputs": []
    },
    {
      "cell_type": "markdown",
      "metadata": {
        "id": "vu2NDBHNqdW2"
      },
      "source": [
        "\n",
        "### Decision layer\n",
        "\n",
        "The *softmax* function is the decision function.\n",
        "\n",
        "This function calculates a probability of belonging to one or other of the possible classes (10 digits <=> 10 classes).\n",
        "\n",
        "\n",
        "\n",
        "```\n",
        "model.add(layers.Dense(10, activation='softmax'))\n",
        "```\n",
        "\n",
        "\n",
        "\n",
        "Then, we choose a loss function, error function accordingly:\n",
        "```\n",
        "loss='categorical_crossentropy'\n",
        "```\n",
        "\n",
        "\n",
        "\n"
      ]
    },
    {
      "cell_type": "code",
      "metadata": {
        "id": "aLa5z6zArACf"
      },
      "source": [
        "model.add(layers.Dense(10, activation='softmax'))"
      ],
      "execution_count": null,
      "outputs": []
    },
    {
      "cell_type": "code",
      "metadata": {
        "colab": {
          "base_uri": "https://localhost:8080/",
          "height": 408
        },
        "id": "aIG8h2beVWBv",
        "outputId": "0682e75c-d7c4-4dae-af4f-f64853684a51"
      },
      "source": [
        "model.summary()"
      ],
      "execution_count": null,
      "outputs": [
        {
          "output_type": "stream",
          "text": [
            "_________________________________________________________________\n",
            "Layer (type)                 Output Shape              Param #   \n",
            "=================================================================\n",
            "conv2d_10 (Conv2D)           (None, 26, 26, 8)         80        \n",
            "_________________________________________________________________\n",
            "max_pooling2d_7 (MaxPooling2 (None, 13, 13, 8)         0         \n",
            "_________________________________________________________________\n",
            "conv2d_11 (Conv2D)           (None, 11, 11, 16)        1168      \n",
            "_________________________________________________________________\n",
            "max_pooling2d_8 (MaxPooling2 (None, 5, 5, 16)          0         \n",
            "_________________________________________________________________\n",
            "conv2d_12 (Conv2D)           (None, 3, 3, 16)          2320      \n",
            "_________________________________________________________________\n",
            "flatten_4 (Flatten)          (None, 144)               0         \n",
            "_________________________________________________________________\n",
            "dense_4 (Dense)              (None, 256)               37120     \n",
            "_________________________________________________________________\n",
            "dense_5 (Dense)              (None, 10)                2570      \n",
            "=================================================================\n",
            "Total params: 43,258\n",
            "Trainable params: 43,258\n",
            "Non-trainable params: 0\n",
            "_________________________________________________________________\n"
          ],
          "name": "stdout"
        }
      ]
    },
    {
      "cell_type": "code",
      "metadata": {
        "id": "OnlfoRcBVGIN"
      },
      "source": [
        "model.compile(optimizer='rmsprop',\n",
        "              loss='categorical_crossentropy',\n",
        "              metrics=['accuracy'])"
      ],
      "execution_count": null,
      "outputs": []
    },
    {
      "cell_type": "code",
      "metadata": {
        "colab": {
          "base_uri": "https://localhost:8080/",
          "height": 374
        },
        "id": "PUyVEDvRVJPM",
        "outputId": "9361c83d-8158-4c22-923f-3a681a38e7d5"
      },
      "source": [
        "history = model.fit(train_images, \n",
        "          train_labels, \n",
        "          validation_split = 0.1,\n",
        "          epochs = 10, \n",
        "          batch_size = 500)"
      ],
      "execution_count": null,
      "outputs": [
        {
          "output_type": "stream",
          "text": [
            "Train on 54000 samples, validate on 6000 samples\n",
            "Epoch 1/10\n",
            "54000/54000 [==============================] - 2s 34us/step - loss: 0.6466 - acc: 0.8121 - val_loss: 0.2209 - val_acc: 0.9307\n",
            "Epoch 2/10\n",
            "54000/54000 [==============================] - 1s 28us/step - loss: 0.2188 - acc: 0.9316 - val_loss: 0.1327 - val_acc: 0.9582\n",
            "Epoch 3/10\n",
            "54000/54000 [==============================] - 1s 27us/step - loss: 0.1397 - acc: 0.9560 - val_loss: 0.0996 - val_acc: 0.9705\n",
            "Epoch 4/10\n",
            "54000/54000 [==============================] - 1s 27us/step - loss: 0.1073 - acc: 0.9667 - val_loss: 0.0746 - val_acc: 0.9770\n",
            "Epoch 5/10\n",
            "54000/54000 [==============================] - 1s 27us/step - loss: 0.0857 - acc: 0.9725 - val_loss: 0.0607 - val_acc: 0.9825\n",
            "Epoch 6/10\n",
            "54000/54000 [==============================] - 1s 27us/step - loss: 0.0731 - acc: 0.9768 - val_loss: 0.0590 - val_acc: 0.9815\n",
            "Epoch 7/10\n",
            "54000/54000 [==============================] - 1s 27us/step - loss: 0.0617 - acc: 0.9807 - val_loss: 0.0718 - val_acc: 0.9788\n",
            "Epoch 8/10\n",
            "54000/54000 [==============================] - 1s 27us/step - loss: 0.0556 - acc: 0.9821 - val_loss: 0.0462 - val_acc: 0.9853\n",
            "Epoch 9/10\n",
            "54000/54000 [==============================] - 1s 27us/step - loss: 0.0488 - acc: 0.9843 - val_loss: 0.0492 - val_acc: 0.9853\n",
            "Epoch 10/10\n",
            "54000/54000 [==============================] - 1s 27us/step - loss: 0.0442 - acc: 0.9858 - val_loss: 0.0555 - val_acc: 0.9845\n"
          ],
          "name": "stdout"
        }
      ]
    },
    {
      "cell_type": "markdown",
      "metadata": {
        "id": "VcI_c6plfpOa"
      },
      "source": [
        "### Draw the learning curve\n",
        "\n",
        "Did you think the learning went well ?"
      ]
    },
    {
      "cell_type": "code",
      "metadata": {
        "colab": {
          "base_uri": "https://localhost:8080/",
          "height": 364
        },
        "id": "0bL9Sri4VPAb",
        "outputId": "e23c469a-bbac-461d-f685-019012975f73"
      },
      "source": [
        "pl.figure()\n",
        "pl.plot(history.history['loss'])\n",
        "pl.plot(history.history['val_loss'])"
      ],
      "execution_count": null,
      "outputs": [
        {
          "output_type": "execute_result",
          "data": {
            "text/plain": [
              "[<matplotlib.lines.Line2D at 0x7f25402eb450>]"
            ]
          },
          "metadata": {
            "tags": []
          },
          "execution_count": 36
        },
        {
          "output_type": "display_data",
          "data": {
            "image/png": "[encoded data removed]",
            "text/plain": [
              "<Figure size 576x396 with 1 Axes>"
            ]
          },
          "metadata": {
            "tags": []
          }
        }
      ]
    },
    {
      "cell_type": "markdown",
      "metadata": {
        "id": "91pTDnIjeTG4"
      },
      "source": [
        "## Performance du modèle \n",
        "Accuracy : % of well-classified instances."
      ]
    },
    {
      "cell_type": "code",
      "metadata": {
        "colab": {
          "base_uri": "https://localhost:8080/",
          "height": 51
        },
        "id": "1tfyFqOFVLca",
        "outputId": "5ec46446-9765-4ebf-d81c-f0d0e6aedfe2"
      },
      "source": [
        "# Evaluation\n",
        "print(model.evaluate(test_images, test_labels))"
      ],
      "execution_count": null,
      "outputs": [
        {
          "output_type": "stream",
          "text": [
            "10000/10000 [==============================] - 1s 71us/step\n",
            "[0.046412392889498735, 0.9858]\n"
          ],
          "name": "stdout"
        }
      ]
    },
    {
      "cell_type": "code",
      "metadata": {
        "colab": {
          "base_uri": "https://localhost:8080/"
        },
        "id": "lfCJ2cxHDwiY",
        "outputId": "6c386d49-72a7-4ca1-a9e3-e0f7b6a06c15"
      },
      "source": [
        "6e4*0.0 # > 0.99996"
      ],
      "execution_count": null,
      "outputs": [
        {
          "output_type": "execute_result",
          "data": {
            "text/plain": [
              "900.0"
            ]
          },
          "metadata": {
            "tags": []
          },
          "execution_count": 24
        }
      ]
    },
    {
      "cell_type": "markdown",
      "metadata": {
        "id": "_KJoEpamxxH8"
      },
      "source": [
        "### Exercice\n",
        "\n",
        "Make changes in the network and compare your results to what we done\n"
      ]
    },
    {
      "cell_type": "code",
      "metadata": {
        "id": "qDJUF52PeaNr"
      },
      "source": [
        ""
      ],
      "execution_count": null,
      "outputs": []
    },
    {
      "cell_type": "markdown",
      "metadata": {
        "id": "X9-na1pWybdt"
      },
      "source": [
        "# Data augmentation\n"
      ]
    },
    {
      "cell_type": "code",
      "metadata": {
        "id": "1faGMZGsycqH"
      },
      "source": [
        "#==========\n",
        "# IMPORT DATA\n",
        "#==========\n",
        "from keras.datasets import mnist\n",
        "from keras import models\n",
        "from keras import layers\n",
        "import numpy as np\n",
        "# \n",
        "from keras.preprocessing.image import ImageDataGenerator\n",
        "import  matplotlib.pyplot as pl\n",
        "\n",
        "(train_images, train_labels), (test_images, test_labels) = mnist.load_data()\n",
        "\n",
        "# 4 axis : samples,  width, height, channel \n",
        "train_images = train_images.reshape(train_images.shape[0], 28, 28 , 1)\n",
        "train_images = train_images.astype('float32')"
      ],
      "execution_count": null,
      "outputs": []
    },
    {
      "cell_type": "code",
      "metadata": {
        "colab": {
          "base_uri": "https://localhost:8080/"
        },
        "id": "FdCNGkrjKbjC",
        "outputId": "5e1fd34d-6f2b-4249-9841-158c2515a46f"
      },
      "source": [
        "help(ImageDataGenerator)"
      ],
      "execution_count": null,
      "outputs": [
        {
          "output_type": "stream",
          "text": [
            "Help on class ImageDataGenerator in module tensorflow.python.keras.preprocessing.image:\n",
            "\n",
            "class ImageDataGenerator(keras_preprocessing.image.image_data_generator.ImageDataGenerator)\n",
            " |  Generate batches of tensor image data with real-time data augmentation.\n",
            " |  \n",
            " |   The data will be looped over (in batches).\n",
            " |  \n",
            " |  Arguments:\n",
            " |      featurewise_center: Boolean.\n",
            " |          Set input mean to 0 over the dataset, feature-wise.\n",
            " |      samplewise_center: Boolean. Set each sample mean to 0.\n",
            " |      featurewise_std_normalization: Boolean.\n",
            " |          Divide inputs by std of the dataset, feature-wise.\n",
            " |      samplewise_std_normalization: Boolean. Divide each input by its std.\n",
            " |      zca_epsilon: epsilon for ZCA whitening. Default is 1e-6.\n",
            " |      zca_whitening: Boolean. Apply ZCA whitening.\n",
            " |      rotation_range: Int. Degree range for random rotations.\n",
            " |      width_shift_range: Float, 1-D array-like or int\n",
            " |          - float: fraction of total width, if < 1, or pixels if >= 1.\n",
            " |          - 1-D array-like: random elements from the array.\n",
            " |          - int: integer number of pixels from interval\n",
            " |              `(-width_shift_range, +width_shift_range)`\n",
            " |          - With `width_shift_range=2` possible values\n",
            " |              are integers `[-1, 0, +1]`,\n",
            " |              same as with `width_shift_range=[-1, 0, +1]`,\n",
            " |              while with `width_shift_range=1.0` possible values are floats\n",
            " |              in the interval [-1.0, +1.0).\n",
            " |      height_shift_range: Float, 1-D array-like or int\n",
            " |          - float: fraction of total height, if < 1, or pixels if >= 1.\n",
            " |          - 1-D array-like: random elements from the array.\n",
            " |          - int: integer number of pixels from interval\n",
            " |              `(-height_shift_range, +height_shift_range)`\n",
            " |          - With `height_shift_range=2` possible values\n",
            " |              are integers `[-1, 0, +1]`,\n",
            " |              same as with `height_shift_range=[-1, 0, +1]`,\n",
            " |              while with `height_shift_range=1.0` possible values are floats\n",
            " |              in the interval [-1.0, +1.0).\n",
            " |      brightness_range: Tuple or list of two floats. Range for picking\n",
            " |          a brightness shift value from.\n",
            " |      shear_range: Float. Shear Intensity\n",
            " |          (Shear angle in counter-clockwise direction in degrees)\n",
            " |      zoom_range: Float or [lower, upper]. Range for random zoom.\n",
            " |          If a float, `[lower, upper] = [1-zoom_range, 1+zoom_range]`.\n",
            " |      channel_shift_range: Float. Range for random channel shifts.\n",
            " |      fill_mode: One of {\"constant\", \"nearest\", \"reflect\" or \"wrap\"}.\n",
            " |          Default is 'nearest'.\n",
            " |          Points outside the boundaries of the input are filled\n",
            " |          according to the given mode:\n",
            " |          - 'constant': kkkkkkkk|abcd|kkkkkkkk (cval=k)\n",
            " |          - 'nearest':  aaaaaaaa|abcd|dddddddd\n",
            " |          - 'reflect':  abcddcba|abcd|dcbaabcd\n",
            " |          - 'wrap':  abcdabcd|abcd|abcdabcd\n",
            " |      cval: Float or Int.\n",
            " |          Value used for points outside the boundaries\n",
            " |          when `fill_mode = \"constant\"`.\n",
            " |      horizontal_flip: Boolean. Randomly flip inputs horizontally.\n",
            " |      vertical_flip: Boolean. Randomly flip inputs vertically.\n",
            " |      rescale: rescaling factor. Defaults to None.\n",
            " |          If None or 0, no rescaling is applied,\n",
            " |          otherwise we multiply the data by the value provided\n",
            " |          (after applying all other transformations).\n",
            " |      preprocessing_function: function that will be applied on each input.\n",
            " |          The function will run after the image is resized and augmented.\n",
            " |          The function should take one argument:\n",
            " |          one image (Numpy tensor with rank 3),\n",
            " |          and should output a Numpy tensor with the same shape.\n",
            " |      data_format: Image data format,\n",
            " |          either \"channels_first\" or \"channels_last\".\n",
            " |          \"channels_last\" mode means that the images should have shape\n",
            " |          `(samples, height, width, channels)`,\n",
            " |          \"channels_first\" mode means that the images should have shape\n",
            " |          `(samples, channels, height, width)`.\n",
            " |          It defaults to the `image_data_format` value found in your\n",
            " |          Keras config file at `~/.keras/keras.json`.\n",
            " |          If you never set it, then it will be \"channels_last\".\n",
            " |      validation_split: Float. Fraction of images reserved for validation\n",
            " |          (strictly between 0 and 1).\n",
            " |      dtype: Dtype to use for the generated arrays.\n",
            " |  \n",
            " |  Examples:\n",
            " |  \n",
            " |  Example of using `.flow(x, y)`:\n",
            " |  \n",
            " |  ```python\n",
            " |  (x_train, y_train), (x_test, y_test) = cifar10.load_data()\n",
            " |  y_train = np_utils.to_categorical(y_train, num_classes)\n",
            " |  y_test = np_utils.to_categorical(y_test, num_classes)\n",
            " |  datagen = ImageDataGenerator(\n",
            " |      featurewise_center=True,\n",
            " |      featurewise_std_normalization=True,\n",
            " |      rotation_range=20,\n",
            " |      width_shift_range=0.2,\n",
            " |      height_shift_range=0.2,\n",
            " |      horizontal_flip=True)\n",
            " |  # compute quantities required for featurewise normalization\n",
            " |  # (std, mean, and principal components if ZCA whitening is applied)\n",
            " |  datagen.fit(x_train)\n",
            " |  # fits the model on batches with real-time data augmentation:\n",
            " |  model.fit(datagen.flow(x_train, y_train, batch_size=32),\n",
            " |            steps_per_epoch=len(x_train) / 32, epochs=epochs)\n",
            " |  # here's a more \"manual\" example\n",
            " |  for e in range(epochs):\n",
            " |      print('Epoch', e)\n",
            " |      batches = 0\n",
            " |      for x_batch, y_batch in datagen.flow(x_train, y_train, batch_size=32):\n",
            " |          model.fit(x_batch, y_batch)\n",
            " |          batches += 1\n",
            " |          if batches >= len(x_train) / 32:\n",
            " |              # we need to break the loop by hand because\n",
            " |              # the generator loops indefinitely\n",
            " |              break\n",
            " |  ```\n",
            " |  \n",
            " |  Example of using `.flow_from_directory(directory)`:\n",
            " |  \n",
            " |  ```python\n",
            " |  train_datagen = ImageDataGenerator(\n",
            " |          rescale=1./255,\n",
            " |          shear_range=0.2,\n",
            " |          zoom_range=0.2,\n",
            " |          horizontal_flip=True)\n",
            " |  test_datagen = ImageDataGenerator(rescale=1./255)\n",
            " |  train_generator = train_datagen.flow_from_directory(\n",
            " |          'data/train',\n",
            " |          target_size=(150, 150),\n",
            " |          batch_size=32,\n",
            " |          class_mode='binary')\n",
            " |  validation_generator = test_datagen.flow_from_directory(\n",
            " |          'data/validation',\n",
            " |          target_size=(150, 150),\n",
            " |          batch_size=32,\n",
            " |          class_mode='binary')\n",
            " |  model.fit(\n",
            " |          train_generator,\n",
            " |          steps_per_epoch=2000,\n",
            " |          epochs=50,\n",
            " |          validation_data=validation_generator,\n",
            " |          validation_steps=800)\n",
            " |  ```\n",
            " |  \n",
            " |  Example of transforming images and masks together.\n",
            " |  \n",
            " |  ```python\n",
            " |  # we create two instances with the same arguments\n",
            " |  data_gen_args = dict(featurewise_center=True,\n",
            " |                       featurewise_std_normalization=True,\n",
            " |                       rotation_range=90,\n",
            " |                       width_shift_range=0.1,\n",
            " |                       height_shift_range=0.1,\n",
            " |                       zoom_range=0.2)\n",
            " |  image_datagen = ImageDataGenerator(**data_gen_args)\n",
            " |  mask_datagen = ImageDataGenerator(**data_gen_args)\n",
            " |  # Provide the same seed and keyword arguments to the fit and flow methods\n",
            " |  seed = 1\n",
            " |  image_datagen.fit(images, augment=True, seed=seed)\n",
            " |  mask_datagen.fit(masks, augment=True, seed=seed)\n",
            " |  image_generator = image_datagen.flow_from_directory(\n",
            " |      'data/images',\n",
            " |      class_mode=None,\n",
            " |      seed=seed)\n",
            " |  mask_generator = mask_datagen.flow_from_directory(\n",
            " |      'data/masks',\n",
            " |      class_mode=None,\n",
            " |      seed=seed)\n",
            " |  # combine generators into one which yields image and masks\n",
            " |  train_generator = zip(image_generator, mask_generator)\n",
            " |  model.fit(\n",
            " |      train_generator,\n",
            " |      steps_per_epoch=2000,\n",
            " |      epochs=50)\n",
            " |  ```\n",
            " |  \n",
            " |  Method resolution order:\n",
            " |      ImageDataGenerator\n",
            " |      keras_preprocessing.image.image_data_generator.ImageDataGenerator\n",
            " |      builtins.object\n",
            " |  \n",
            " |  Methods defined here:\n",
            " |  \n",
            " |  __init__(self, featurewise_center=False, samplewise_center=False, featurewise_std_normalization=False, samplewise_std_normalization=False, zca_whitening=False, zca_epsilon=1e-06, rotation_range=0, width_shift_range=0.0, height_shift_range=0.0, brightness_range=None, shear_range=0.0, zoom_range=0.0, channel_shift_range=0.0, fill_mode='nearest', cval=0.0, horizontal_flip=False, vertical_flip=False, rescale=None, preprocessing_function=None, data_format=None, validation_split=0.0, dtype=None)\n",
            " |      Initialize self.  See help(type(self)) for accurate signature.\n",
            " |  \n",
            " |  flow(self, x, y=None, batch_size=32, shuffle=True, sample_weight=None, seed=None, save_to_dir=None, save_prefix='', save_format='png', subset=None)\n",
            " |      Takes data & label arrays, generates batches of augmented data.\n",
            " |      \n",
            " |      Arguments:\n",
            " |          x: Input data. Numpy array of rank 4 or a tuple. If tuple, the first\n",
            " |            element should contain the images and the second element another numpy\n",
            " |            array or a list of numpy arrays that gets passed to the output without\n",
            " |            any modifications. Can be used to feed the model miscellaneous data\n",
            " |            along with the images. In case of grayscale data, the channels axis of\n",
            " |            the image array should have value 1, in case of RGB data, it should\n",
            " |            have value 3, and in case of RGBA data, it should have value 4.\n",
            " |          y: Labels.\n",
            " |          batch_size: Int (default: 32).\n",
            " |          shuffle: Boolean (default: True).\n",
            " |          sample_weight: Sample weights.\n",
            " |          seed: Int (default: None).\n",
            " |          save_to_dir: None or str (default: None). This allows you to optionally\n",
            " |            specify a directory to which to save the augmented pictures being\n",
            " |            generated (useful for visualizing what you are doing).\n",
            " |          save_prefix: Str (default: `''`). Prefix to use for filenames of saved\n",
            " |            pictures (only relevant if `save_to_dir` is set).\n",
            " |          save_format: one of \"png\", \"jpeg\"\n",
            " |              (only relevant if `save_to_dir` is set). Default: \"png\".\n",
            " |          subset: Subset of data (`\"training\"` or `\"validation\"`) if\n",
            " |            `validation_split` is set in `ImageDataGenerator`.\n",
            " |      \n",
            " |      Returns:\n",
            " |          An `Iterator` yielding tuples of `(x, y)`\n",
            " |              where `x` is a numpy array of image data\n",
            " |              (in the case of a single image input) or a list\n",
            " |              of numpy arrays (in the case with\n",
            " |              additional inputs) and `y` is a numpy array\n",
            " |              of corresponding labels. If 'sample_weight' is not None,\n",
            " |              the yielded tuples are of the form `(x, y, sample_weight)`.\n",
            " |              If `y` is None, only the numpy array `x` is returned.\n",
            " |  \n",
            " |  flow_from_dataframe(self, dataframe, directory=None, x_col='filename', y_col='class', weight_col=None, target_size=(256, 256), color_mode='rgb', classes=None, class_mode='categorical', batch_size=32, shuffle=True, seed=None, save_to_dir=None, save_prefix='', save_format='png', subset=None, interpolation='nearest', validate_filenames=True, **kwargs)\n",
            " |      Takes the dataframe and the path to a directory + generates batches.\n",
            " |      \n",
            " |       The generated batches contain augmented/normalized data.\n",
            " |      \n",
            " |      **A simple tutorial can be found **[here](\n",
            " |                                  http://bit.ly/keras_flow_from_dataframe).\n",
            " |      \n",
            " |      Arguments:\n",
            " |          dataframe: Pandas dataframe containing the filepaths relative to\n",
            " |            `directory` (or absolute paths if `directory` is None) of the images\n",
            " |            in a string column. It should include other column/s\n",
            " |              depending on the `class_mode`: - if `class_mode` is `\"categorical\"`\n",
            " |                (default value) it must include the `y_col` column with the\n",
            " |                class/es of each image. Values in column can be string/list/tuple\n",
            " |                if a single class or list/tuple if multiple classes. - if\n",
            " |                `class_mode` is `\"binary\"` or `\"sparse\"` it must include the given\n",
            " |                `y_col` column with class values as strings. - if `class_mode` is\n",
            " |                `\"raw\"` or `\"multi_output\"` it should contain the columns\n",
            " |                specified in `y_col`. - if `class_mode` is `\"input\"` or `None` no\n",
            " |                extra column is needed.\n",
            " |          directory: string, path to the directory to read images from. If `None`,\n",
            " |            data in `x_col` column should be absolute paths.\n",
            " |          x_col: string, column in `dataframe` that contains the filenames (or\n",
            " |            absolute paths if `directory` is `None`).\n",
            " |          y_col: string or list, column/s in `dataframe` that has the target data.\n",
            " |          weight_col: string, column in `dataframe` that contains the sample\n",
            " |              weights. Default: `None`.\n",
            " |          target_size: tuple of integers `(height, width)`, default: `(256, 256)`.\n",
            " |            The dimensions to which all images found will be resized.\n",
            " |          color_mode: one of \"grayscale\", \"rgb\", \"rgba\". Default: \"rgb\". Whether\n",
            " |            the images will be converted to have 1 or 3 color channels.\n",
            " |          classes: optional list of classes (e.g. `['dogs', 'cats']`). Default is\n",
            " |            None. If not provided, the list of classes will be automatically\n",
            " |            inferred from the `y_col`, which will map to the label indices, will\n",
            " |            be alphanumeric). The dictionary containing the mapping from class\n",
            " |            names to class indices can be obtained via the attribute\n",
            " |            `class_indices`.\n",
            " |          class_mode: one of \"binary\", \"categorical\", \"input\", \"multi_output\",\n",
            " |              \"raw\", sparse\" or None. Default: \"categorical\".\n",
            " |              Mode for yielding the targets:\n",
            " |              - `\"binary\"`: 1D numpy array of binary labels,\n",
            " |              - `\"categorical\"`: 2D numpy array of one-hot encoded labels.\n",
            " |                Supports multi-label output.\n",
            " |              - `\"input\"`: images identical to input images (mainly used to work\n",
            " |                with autoencoders),\n",
            " |              - `\"multi_output\"`: list with the values of the different columns,\n",
            " |              - `\"raw\"`: numpy array of values in `y_col` column(s),\n",
            " |              - `\"sparse\"`: 1D numpy array of integer labels, - `None`, no targets\n",
            " |                are returned (the generator will only yield batches of image data,\n",
            " |                which is useful to use in `model.predict()`).\n",
            " |          batch_size: size of the batches of data (default: 32).\n",
            " |          shuffle: whether to shuffle the data (default: True)\n",
            " |          seed: optional random seed for shuffling and transformations.\n",
            " |          save_to_dir: None or str (default: None). This allows you to optionally\n",
            " |            specify a directory to which to save the augmented pictures being\n",
            " |            generated (useful for visualizing what you are doing).\n",
            " |          save_prefix: str. Prefix to use for filenames of saved pictures (only\n",
            " |            relevant if `save_to_dir` is set).\n",
            " |          save_format: one of \"png\", \"jpeg\"\n",
            " |              (only relevant if `save_to_dir` is set). Default: \"png\".\n",
            " |          subset: Subset of data (`\"training\"` or `\"validation\"`) if\n",
            " |            `validation_split` is set in `ImageDataGenerator`.\n",
            " |          interpolation: Interpolation method used to resample the image if the\n",
            " |            target size is different from that of the loaded image. Supported\n",
            " |            methods are `\"nearest\"`, `\"bilinear\"`, and `\"bicubic\"`. If PIL version\n",
            " |            1.1.3 or newer is installed, `\"lanczos\"` is also supported. If PIL\n",
            " |            version 3.4.0 or newer is installed, `\"box\"` and `\"hamming\"` are also\n",
            " |            supported. By default, `\"nearest\"` is used.\n",
            " |          validate_filenames: Boolean, whether to validate image filenames in\n",
            " |            `x_col`. If `True`, invalid images will be ignored. Disabling this\n",
            " |            option can lead to speed-up in the execution of this function.\n",
            " |            Defaults to `True`.\n",
            " |          **kwargs: legacy arguments for raising deprecation warnings.\n",
            " |      \n",
            " |      Returns:\n",
            " |          A `DataFrameIterator` yielding tuples of `(x, y)`\n",
            " |          where `x` is a numpy array containing a batch\n",
            " |          of images with shape `(batch_size, *target_size, channels)`\n",
            " |          and `y` is a numpy array of corresponding labels.\n",
            " |  \n",
            " |  flow_from_directory(self, directory, target_size=(256, 256), color_mode='rgb', classes=None, class_mode='categorical', batch_size=32, shuffle=True, seed=None, save_to_dir=None, save_prefix='', save_format='png', follow_links=False, subset=None, interpolation='nearest')\n",
            " |      Takes the path to a directory & generates batches of augmented data.\n",
            " |      \n",
            " |      Arguments:\n",
            " |          directory: string, path to the target directory. It should contain one\n",
            " |            subdirectory per class. Any PNG, JPG, BMP, PPM or TIF images inside\n",
            " |            each of the subdirectories directory tree will be included in the\n",
            " |            generator. See [this script](\n",
            " |              https://gist.github.com/fchollet/0830affa1f7f19fd47b06d4cf89ed44d)\n",
            " |                for more details.\n",
            " |          target_size: Tuple of integers `(height, width)`, defaults to `(256,\n",
            " |            256)`. The dimensions to which all images found will be resized.\n",
            " |          color_mode: One of \"grayscale\", \"rgb\", \"rgba\". Default: \"rgb\". Whether\n",
            " |            the images will be converted to have 1, 3, or 4 channels.\n",
            " |          classes: Optional list of class subdirectories\n",
            " |              (e.g. `['dogs', 'cats']`). Default: None. If not provided, the list\n",
            " |                of classes will be automatically inferred from the subdirectory\n",
            " |                names/structure under `directory`, where each subdirectory will be\n",
            " |                treated as a different class (and the order of the classes, which\n",
            " |                will map to the label indices, will be alphanumeric). The\n",
            " |                dictionary containing the mapping from class names to class\n",
            " |                indices can be obtained via the attribute `class_indices`.\n",
            " |          class_mode: One of \"categorical\", \"binary\", \"sparse\",\n",
            " |              \"input\", or None. Default: \"categorical\".\n",
            " |              Determines the type of label arrays that are returned: -\n",
            " |                \"categorical\" will be 2D one-hot encoded labels, - \"binary\" will\n",
            " |                be 1D binary labels, \"sparse\" will be 1D integer labels, - \"input\"\n",
            " |                will be images identical to input images (mainly used to work with\n",
            " |                autoencoders). - If None, no labels are returned (the generator\n",
            " |                will only yield batches of image data, which is useful to use with\n",
            " |                `model.predict()`). Please note that in case of\n",
            " |                class_mode None, the data still needs to reside in a subdirectory\n",
            " |                of `directory` for it to work correctly.\n",
            " |          batch_size: Size of the batches of data (default: 32).\n",
            " |          shuffle: Whether to shuffle the data (default: True) If set to False,\n",
            " |            sorts the data in alphanumeric order.\n",
            " |          seed: Optional random seed for shuffling and transformations.\n",
            " |          save_to_dir: None or str (default: None). This allows you to optionally\n",
            " |            specify a directory to which to save the augmented pictures being\n",
            " |            generated (useful for visualizing what you are doing).\n",
            " |          save_prefix: Str. Prefix to use for filenames of saved pictures (only\n",
            " |            relevant if `save_to_dir` is set).\n",
            " |          save_format: One of \"png\", \"jpeg\"\n",
            " |              (only relevant if `save_to_dir` is set). Default: \"png\".\n",
            " |          follow_links: Whether to follow symlinks inside\n",
            " |              class subdirectories (default: False).\n",
            " |          subset: Subset of data (`\"training\"` or `\"validation\"`) if\n",
            " |            `validation_split` is set in `ImageDataGenerator`.\n",
            " |          interpolation: Interpolation method used to resample the image if the\n",
            " |            target size is different from that of the loaded image. Supported\n",
            " |            methods are `\"nearest\"`, `\"bilinear\"`, and `\"bicubic\"`. If PIL version\n",
            " |            1.1.3 or newer is installed, `\"lanczos\"` is also supported. If PIL\n",
            " |            version 3.4.0 or newer is installed, `\"box\"` and `\"hamming\"` are also\n",
            " |            supported. By default, `\"nearest\"` is used.\n",
            " |      \n",
            " |      Returns:\n",
            " |          A `DirectoryIterator` yielding tuples of `(x, y)`\n",
            " |              where `x` is a numpy array containing a batch\n",
            " |              of images with shape `(batch_size, *target_size, channels)`\n",
            " |              and `y` is a numpy array of corresponding labels.\n",
            " |  \n",
            " |  ----------------------------------------------------------------------\n",
            " |  Methods inherited from keras_preprocessing.image.image_data_generator.ImageDataGenerator:\n",
            " |  \n",
            " |  apply_transform(self, x, transform_parameters)\n",
            " |      Applies a transformation to an image according to given parameters.\n",
            " |      \n",
            " |      # Arguments\n",
            " |          x: 3D tensor, single image.\n",
            " |          transform_parameters: Dictionary with string - parameter pairs\n",
            " |              describing the transformation.\n",
            " |              Currently, the following parameters\n",
            " |              from the dictionary are used:\n",
            " |              - `'theta'`: Float. Rotation angle in degrees.\n",
            " |              - `'tx'`: Float. Shift in the x direction.\n",
            " |              - `'ty'`: Float. Shift in the y direction.\n",
            " |              - `'shear'`: Float. Shear angle in degrees.\n",
            " |              - `'zx'`: Float. Zoom in the x direction.\n",
            " |              - `'zy'`: Float. Zoom in the y direction.\n",
            " |              - `'flip_horizontal'`: Boolean. Horizontal flip.\n",
            " |              - `'flip_vertical'`: Boolean. Vertical flip.\n",
            " |              - `'channel_shift_intensity'`: Float. Channel shift intensity.\n",
            " |              - `'brightness'`: Float. Brightness shift intensity.\n",
            " |      \n",
            " |      # Returns\n",
            " |          A transformed version of the input (same shape).\n",
            " |  \n",
            " |  fit(self, x, augment=False, rounds=1, seed=None)\n",
            " |      Fits the data generator to some sample data.\n",
            " |      \n",
            " |      This computes the internal data stats related to the\n",
            " |      data-dependent transformations, based on an array of sample data.\n",
            " |      \n",
            " |      Only required if `featurewise_center` or\n",
            " |      `featurewise_std_normalization` or `zca_whitening` are set to True.\n",
            " |      \n",
            " |      When `rescale` is set to a value, rescaling is applied to\n",
            " |      sample data before computing the internal data stats.\n",
            " |      \n",
            " |      # Arguments\n",
            " |          x: Sample data. Should have rank 4.\n",
            " |           In case of grayscale data,\n",
            " |           the channels axis should have value 1, in case\n",
            " |           of RGB data, it should have value 3, and in case\n",
            " |           of RGBA data, it should have value 4.\n",
            " |          augment: Boolean (default: False).\n",
            " |              Whether to fit on randomly augmented samples.\n",
            " |          rounds: Int (default: 1).\n",
            " |              If using data augmentation (`augment=True`),\n",
            " |              this is how many augmentation passes over the data to use.\n",
            " |          seed: Int (default: None). Random seed.\n",
            " |  \n",
            " |  get_random_transform(self, img_shape, seed=None)\n",
            " |      Generates random parameters for a transformation.\n",
            " |      \n",
            " |      # Arguments\n",
            " |          seed: Random seed.\n",
            " |          img_shape: Tuple of integers.\n",
            " |              Shape of the image that is transformed.\n",
            " |      \n",
            " |      # Returns\n",
            " |          A dictionary containing randomly chosen parameters describing the\n",
            " |          transformation.\n",
            " |  \n",
            " |  random_transform(self, x, seed=None)\n",
            " |      Applies a random transformation to an image.\n",
            " |      \n",
            " |      # Arguments\n",
            " |          x: 3D tensor, single image.\n",
            " |          seed: Random seed.\n",
            " |      \n",
            " |      # Returns\n",
            " |          A randomly transformed version of the input (same shape).\n",
            " |  \n",
            " |  standardize(self, x)\n",
            " |      Applies the normalization configuration in-place to a batch of inputs.\n",
            " |      \n",
            " |      `x` is changed in-place since the function is mainly used internally\n",
            " |      to standardize images and feed them to your network. If a copy of `x`\n",
            " |      would be created instead it would have a significant performance cost.\n",
            " |      If you want to apply this method without changing the input in-place\n",
            " |      you can call the method creating a copy before:\n",
            " |      \n",
            " |      standardize(np.copy(x))\n",
            " |      \n",
            " |      # Arguments\n",
            " |          x: Batch of inputs to be normalized.\n",
            " |      \n",
            " |      # Returns\n",
            " |          The inputs, normalized.\n",
            " |  \n",
            " |  ----------------------------------------------------------------------\n",
            " |  Data descriptors inherited from keras_preprocessing.image.image_data_generator.ImageDataGenerator:\n",
            " |  \n",
            " |  __dict__\n",
            " |      dictionary for instance variables (if defined)\n",
            " |  \n",
            " |  __weakref__\n",
            " |      list of weak references to the object (if defined)\n",
            "\n"
          ],
          "name": "stdout"
        }
      ]
    },
    {
      "cell_type": "markdown",
      "metadata": {
        "id": "UQxV7Yp8zT_Y"
      },
      "source": [
        "## Augmentation: implementation with Keras"
      ]
    },
    {
      "cell_type": "code",
      "metadata": {
        "colab": {
          "base_uri": "https://localhost:8080/",
          "height": 1000
        },
        "id": "7cHI5kh4zR7k",
        "outputId": "9ae6dd1d-abcd-494d-bbd1-a3807ea063d6"
      },
      "source": [
        "# Data preparation\n",
        "datagenerator = ImageDataGenerator(\n",
        "                                   # Define data preparation / increase: rotation\n",
        "                                   rotation_range = 90,\n",
        "                                   zoom_range=0.2, \n",
        "                                   # Zoom random\n",
        "                                   horizontal_flip = False,\n",
        "                                   # Flip random\n",
        "                                   vertical_flip = False,\n",
        "                                   width_shift_range = 0.1,\n",
        "                                   # Shift random horizontal \n",
        "                                   height_shift_range = 0.1)\n",
        " \n",
        "# Data training\n",
        "datagenerator.fit(train_images)\n",
        "# Configure batch. run : UN batch \n",
        "bcl = 0\n",
        "\n",
        "# Create the flow (a batch) after performing data augmentation :\n",
        "for batch_x, batch_y in datagenerator.flow(train_images, train_labels, batch_size = 1):\n",
        "    pl.figure()\n",
        "    pl.imshow(batch_x[0].reshape(28, 28), \n",
        "              cmap = pl.get_cmap('gray'))\n",
        "    bcl = bcl +1\n",
        "    pl.show()\n",
        "    if bcl > 3:\n",
        "      # Interruption du batch \n",
        "      break\n"
      ],
      "execution_count": null,
      "outputs": [
        {
          "output_type": "display_data",
          "data": {
            "image/png": "[encoded data removed]",
            "text/plain": [
              "<Figure size 432x288 with 1 Axes>"
            ]
          },
          "metadata": {
            "tags": [],
            "needs_background": "light"
          }
        },
        {
          "output_type": "display_data",
          "data": {
            "image/png": "[encoded data removed]",
            "text/plain": [
              "<Figure size 432x288 with 1 Axes>"
            ]
          },
          "metadata": {
            "tags": [],
            "needs_background": "light"
          }
        },
        {
          "output_type": "display_data",
          "data": {
            "image/png": "[encoded data removed]",
            "text/plain": [
              "<Figure size 432x288 with 1 Axes>"
            ]
          },
          "metadata": {
            "tags": [],
            "needs_background": "light"
          }
        },
        {
          "output_type": "display_data",
          "data": {
            "image/png": "[encoded data removed]",
            "text/plain": [
              "<Figure size 432x288 with 1 Axes>"
            ]
          },
          "metadata": {
            "tags": [],
            "needs_background": "light"
          }
        }
      ]
    },
    {
      "cell_type": "markdown",
      "metadata": {
        "id": "wFqFYGbz0ypE"
      },
      "source": [
        "# Build a Convolutional Neural Network for Pizza Co.'s\n"
      ]
    },
    {
      "cell_type": "markdown",
      "metadata": {
        "id": "jE4oRflF6BqB"
      },
      "source": [
        "## Your Task:\n"
      ]
    },
    {
      "cell_type": "markdown",
      "metadata": {
        "id": "RHNC5qEq07QB"
      },
      "source": [
        "\n",
        "Worldwide Pizza Co.'s packaging is legendary. It's the only pizza company that has different shapes of boxes, depending on your order. A 5-piece wings meal comes in a star-shaped box; fries come in a circle-shaped box, and mozzarella sticks in a triangle one.\n",
        "\n",
        "For now, the box-manufacturing company manually sorts the boxes. They saw that you were featured in a recent company newsletter about AI-solutions and have reached out for your help. They have some cameras on the production line and have sent you pictures of the boxes that they produce. Here are the four types:\n",
        "\n",
        "\n",
        "* Stars\n",
        "* Circles\n",
        "* Squares\n",
        "* Triangles\n",
        "\n",
        "\n",
        "They said that they could install a system to automatically push boxes in the right direction if you could create a solution that can successfully detect them. Ready to work your magic ?"
      ]
    },
    {
      "cell_type": "markdown",
      "metadata": {
        "id": "5HB7DufKLfge"
      },
      "source": [
        "![image.png](data:image/png;base64,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)"
      ]
    },
    {
      "cell_type": "markdown",
      "metadata": {
        "id": "x3_ExCAp00TK"
      },
      "source": [
        "The data : https://github.com/Disruptive-Engineering-Limited/introduction-to-deep-learning/tree/master/datasets/recipes"
      ]
    },
    {
      "cell_type": "markdown",
      "metadata": {
        "id": "sYPLviWXlHOu"
      },
      "source": [
        "## Goal :\n",
        "We will see how to learn to recognize optical characters with Keras.\n",
        "\n",
        "It's all about recognizing hand-drawn numbers.\n",
        "\n",
        "This type of application is deployed for the optical reading of bank checks, for example.\n",
        "\n",
        "We are going to write a ** convolutional neural network ** to recognize handwritten characters.\n",
        "\n",
        "It is a problem of ** multiple classification ** (10 digits from 0 to 9 => 10 classes)\n",
        "\n",
        "### Note :\n",
        "Learning the model is slow.\n",
        "You can speed it up by deporting the calculations to ** GPU **."
      ]
    },
    {
      "cell_type": "markdown",
      "metadata": {
        "id": "lcZ7buvElHO4"
      },
      "source": [
        "## Importing the libraries"
      ]
    },
    {
      "cell_type": "code",
      "metadata": {
        "id": "Jr2RRhyMlHO4"
      },
      "source": [
        "# ==========================================\n",
        "#                   MNIST dataset\n",
        "# ==========================================\n",
        "\n",
        "from keras.datasets import mnist\n",
        "from keras import models\n",
        "from keras import layers\n",
        "from keras.utils import to_categorical\n",
        "import numpy as np\n",
        "import matplotlib.pyplot as pl"
      ],
      "execution_count": null,
      "outputs": []
    },
    {
      "cell_type": "markdown",
      "metadata": {
        "id": "-gjB42RclHO4"
      },
      "source": [
        "## The dataset \n",
        "\n",
        "We import the images from [MNIST](https://en.wikipedia.org/wiki/MNIST_database).\n",
        "\n",
        "MNIST : Modified National Institute of Standards and Technology\n",
        "\n",
        "It is a set of images of numbers in B&W."
      ]
    },
    {
      "cell_type": "code",
      "metadata": {
        "colab": {
          "base_uri": "https://localhost:8080/"
        },
        "id": "XW40Q67wlHO5",
        "outputId": "4e280bd2-ce81-4f4f-984a-8c6f1dcf89d4"
      },
      "source": [
        "(train_images, train_labels), (test_images, test_labels) = mnist.load_data()"
      ],
      "execution_count": null,
      "outputs": [
        {
          "output_type": "stream",
          "text": [
            "Downloading data from https://storage.googleapis.com/tensorflow/tf-keras-datasets/mnist.npz\n",
            "11493376/11490434 [==============================] - 0s 0us/step\n"
          ],
          "name": "stdout"
        }
      ]
    },
    {
      "cell_type": "code",
      "metadata": {
        "colab": {
          "base_uri": "https://localhost:8080/"
        },
        "id": "fpJ9QA37lHO5",
        "outputId": "893138c9-968f-4630-da54-9a9d5cf70f68"
      },
      "source": [
        "print(\"nb images = \",train_images.shape[0])\n",
        "print(\"unique label = \",np.unique(train_labels))"
      ],
      "execution_count": null,
      "outputs": [
        {
          "output_type": "stream",
          "text": [
            "nb images =  60000\n",
            "unique label =  [0 1 2 3 4 5 6 7 8 9]\n"
          ],
          "name": "stdout"
        }
      ]
    },
    {
      "cell_type": "markdown",
      "metadata": {
        "id": "B66AHm3mlHO6"
      },
      "source": [
        "### Image format"
      ]
    },
    {
      "cell_type": "code",
      "metadata": {
        "colab": {
          "base_uri": "https://localhost:8080/"
        },
        "id": "DwY5YB-jlHO6",
        "outputId": "2bb530bb-a76f-400c-b9ec-f52bcfc71d07"
      },
      "source": [
        "train_images.shape"
      ],
      "execution_count": null,
      "outputs": [
        {
          "output_type": "execute_result",
          "data": {
            "text/plain": [
              "(60000, 28, 28)"
            ]
          },
          "metadata": {
            "tags": []
          },
          "execution_count": 6
        }
      ]
    },
    {
      "cell_type": "code",
      "metadata": {
        "colab": {
          "base_uri": "https://localhost:8080/",
          "height": 265
        },
        "id": "rcQQF7-elHO6",
        "outputId": "e8e2a821-653b-4690-eeda-2a720bd0eb28"
      },
      "source": [
        "num_img = 18\n",
        "pl.figure()\n",
        "pl.imshow(train_images[num_img], cmap = pl.get_cmap('gray'))\n",
        "pl.show()"
      ],
      "execution_count": null,
      "outputs": [
        {
          "output_type": "display_data",
          "data": {
            "image/png": "[encoded data removed]",
            "text/plain": [
              "<Figure size 432x288 with 1 Axes>"
            ]
          },
          "metadata": {
            "tags": [],
            "needs_background": "light"
          }
        }
      ]
    },
    {
      "cell_type": "markdown",
      "metadata": {
        "id": "diLWrj1xlHO6"
      },
      "source": [
        "## Data preparation\n",
        "We will successively:\n",
        "* Resize images (resize)\n",
        "* Then normalize them\n",
        "* And finally categorize them (* one-hot-encoding *)\n",
        "\n",
        "\n",
        "\n",
        "\n",
        "The images are in black and white. We add an additional dimension to take into account the color."
      ]
    },
    {
      "cell_type": "markdown",
      "metadata": {
        "id": "VxnYCBwFlHO7"
      },
      "source": [
        "### Resize\n",
        "\n",
        "The images must be \"resized\" in a standard analysis format.\n",
        "This format is as follows:\n",
        "\n",
        "```\n",
        "[nb_images , hauteur , largeur , channel]\n",
        "```"
      ]
    },
    {
      "cell_type": "markdown",
      "metadata": {
        "id": "9lz6bPOblHO7"
      },
      "source": [
        "\n",
        "* We resize (* reshape *) to add ** a ** dimension, the *channel*.\n",
        "\n",
        "\n",
        "```\n",
        "channel = 1\n",
        "```\n",
        "\n",
        "\n",
        "If the images were in color, then we should take these ** three ** dimensions into account (RGB : red - green - blue).\n",
        "In this case,\n",
        "\n",
        "```\n",
        "channel = 3\n",
        "```\n",
        "\n",
        "The code is :\n",
        "\n",
        "\n",
        "```\n",
        "train_images.reshape((nb_images, hauteur, largeur, channel))\n",
        "```\n",
        "\n",
        "\n",
        "\n"
      ]
    },
    {
      "cell_type": "code",
      "metadata": {
        "colab": {
          "base_uri": "https://localhost:8080/"
        },
        "id": "5m4c8x7UlHO7",
        "outputId": "643637ce-21a4-4ea4-830a-914ea9eff38b"
      },
      "source": [
        "# Before modification\n",
        "train_images.shape"
      ],
      "execution_count": null,
      "outputs": [
        {
          "output_type": "execute_result",
          "data": {
            "text/plain": [
              "(60000, 28, 28)"
            ]
          },
          "metadata": {
            "tags": []
          },
          "execution_count": 9
        }
      ]
    },
    {
      "cell_type": "code",
      "metadata": {
        "id": "Y47O9hp8lHO7"
      },
      "source": [
        "train_images = train_images.reshape((60000, 28, 28, 1))\n",
        "test_images = test_images.reshape((10000, 28, 28, 1))"
      ],
      "execution_count": null,
      "outputs": []
    },
    {
      "cell_type": "code",
      "metadata": {
        "colab": {
          "base_uri": "https://localhost:8080/"
        },
        "id": "vVnDwn1DlHO8",
        "outputId": "1df297c8-5be7-4d8f-a471-c1e54e26e393"
      },
      "source": [
        "# After reshape \n",
        "train_images.shape"
      ],
      "execution_count": null,
      "outputs": [
        {
          "output_type": "execute_result",
          "data": {
            "text/plain": [
              "(60000, 28, 28, 1)"
            ]
          },
          "metadata": {
            "tags": []
          },
          "execution_count": 12
        }
      ]
    },
    {
      "cell_type": "markdown",
      "metadata": {
        "id": "EwrIqOmzlHO8"
      },
      "source": [
        "### Normalization of images\n",
        "We normalize the original images which are encoded on 255 levels of gray.\n",
        "The pixel values ​​will therefore be between 0 and 1\n",
        "\n",
        "\n",
        "The standardization code:\n",
        "```\n",
        "train_images.astype('float32') / 255\n",
        "```\n",
        "\n"
      ]
    },
    {
      "cell_type": "code",
      "metadata": {
        "id": "yrIyUhSklHO8"
      },
      "source": [
        "train_images = train_images.astype('float32') / 255\n",
        "test_images = test_images.astype('float32') / 255"
      ],
      "execution_count": null,
      "outputs": []
    },
    {
      "cell_type": "markdown",
      "metadata": {
        "id": "0-Ok8ZSDlHO8"
      },
      "source": [
        "### One hot encoding des labels \n",
        "Passage digit -> category\n",
        "\n",
        "The outputs (labels) are a label (between 0 and 9) which represents the value of the plotted figure.\n",
        "This is the exit that the network will have to learn to recognize.\n",
        "\n",
        "* One Hot encoding * is a classic processing.\n",
        "The corresponding French term is * codage disjonctif * (very little used).\n",
        "\n",
        "It consists in extending the ** dimension ** of the output.\n",
        "We go from a number between 0 and 9 to a vector (array) of dimension 9.\n",
        "\n",
        "\n",
        "Example of One Hot Encoding on numbers between 0 and 2 (3 classes) : \n",
        "\n",
        "0 -> {1 , 0 , 0} \n",
        "\n",
        "1 -> {0 , 1 , 0} \n",
        "\n",
        "2 -> {0 , 0 , 1} \n",
        "\n",
        "This processing facilitates the learning of deep learning models.\n",
        "\n",
        "It is imperative to know it.\n"
      ]
    },
    {
      "cell_type": "code",
      "metadata": {
        "colab": {
          "base_uri": "https://localhost:8080/"
        },
        "id": "dc3fWE7FlHO8",
        "outputId": "50e94641-a080-40ed-adb3-670c634260fe"
      },
      "source": [
        "train_labels.shape"
      ],
      "execution_count": null,
      "outputs": [
        {
          "output_type": "execute_result",
          "data": {
            "text/plain": [
              "(60000,)"
            ]
          },
          "metadata": {
            "tags": []
          },
          "execution_count": 14
        }
      ]
    },
    {
      "cell_type": "code",
      "metadata": {
        "id": "VZhN6lh5lHO9"
      },
      "source": [
        "# One Hot Encoding\n",
        "train_labels = to_categorical(train_labels)\n",
        "test_labels = to_categorical(test_labels)"
      ],
      "execution_count": null,
      "outputs": []
    },
    {
      "cell_type": "code",
      "metadata": {
        "colab": {
          "base_uri": "https://localhost:8080/"
        },
        "id": "5TPeTD7SlHO9",
        "outputId": "06fb2117-8514-495b-cf0e-64ddf6fbfc88"
      },
      "source": [
        "train_labels.shape"
      ],
      "execution_count": null,
      "outputs": [
        {
          "output_type": "execute_result",
          "data": {
            "text/plain": [
              "(60000, 10)"
            ]
          },
          "metadata": {
            "tags": []
          },
          "execution_count": 16
        }
      ]
    },
    {
      "cell_type": "code",
      "metadata": {
        "colab": {
          "base_uri": "https://localhost:8080/"
        },
        "id": "Uux0Th5zlHO9",
        "outputId": "f612349b-1620-4ec0-a7f3-51026591fe94"
      },
      "source": [
        "# Wich number ?\n",
        "print(train_labels[num_img])\n",
        "num_label = np.where(train_labels[num_img] != 0)\n",
        "print(\"It's a : \" , num_label)"
      ],
      "execution_count": null,
      "outputs": [
        {
          "output_type": "stream",
          "text": [
            "[0. 0. 0. 0. 0. 0. 1. 0. 0. 0.]\n",
            "It's a :  (array([6]),)\n"
          ],
          "name": "stdout"
        }
      ]
    },
    {
      "cell_type": "markdown",
      "metadata": {
        "id": "nQr_qXjvlHO9"
      },
      "source": [
        "## Deep learning : Convolutionnal Neural Network avec Keras"
      ]
    },
    {
      "cell_type": "code",
      "metadata": {
        "id": "1M1lDh4ylHO9"
      },
      "source": [
        "model = models.Sequential()\n",
        "\n",
        "# Convolution : 8 filters with 3 x 3 dimensions\n",
        "model.add(layers.Conv2D(8, (3, 3), activation='relu', input_shape=(28, 28, 1)))\n",
        "\n",
        "# Max pooling 2 x 2\n",
        "model.add(layers.MaxPooling2D((2, 2)))\n",
        "\n",
        "# Convolution #2: 16 filters with 3 x 3 dimensions\n",
        "model.add(layers.Conv2D(16, (3, 3), activation='relu'))\n",
        "model.add(layers.MaxPooling2D((2, 2)))\n",
        "\n",
        "# Convolution #3\n",
        "model.add(layers.Conv2D(16, (3, 3), activation='relu'))"
      ],
      "execution_count": null,
      "outputs": []
    },
    {
      "cell_type": "markdown",
      "metadata": {
        "id": "i_RwdNr2lHO-"
      },
      "source": [
        "### *flatten* layer\n",
        "\n",
        "After the ** convolution ** layers, we must ** always ** add a treatment layer **Flatten**.\n",
        "\n",
        "This layer flattens the 2D structures resulting from the convolution.\n",
        "\n",
        "The * Flatten * layer ensures the passage 2D -> 1D.\n",
        "\n",
        "\n",
        "```\n",
        "model.add(layers.Flatten())\n",
        "```\n",
        "\n"
      ]
    },
    {
      "cell_type": "code",
      "metadata": {
        "id": "RYRuXqyhlHO-"
      },
      "source": [
        "model.add(layers.Flatten())"
      ],
      "execution_count": null,
      "outputs": []
    },
    {
      "cell_type": "markdown",
      "metadata": {
        "id": "BDcnck02lHO-"
      },
      "source": [
        "### *Dense* layer\n",
        "\n",
        "The flattening layer above allows you to make the transition to the *dense* layers that follow.\n",
        "\n",
        "\n",
        "---\n",
        "**Very important**\n",
        "\n",
        "The role of the *dense* layer is to analyze the structures revealed by the convolution layers.\n",
        "The convolutional layer highlights, extracts structures which are then processed by one - or more - * dense * layer.\n",
        "\n",
        "---\n",
        "\n",
        "\n",
        "\n"
      ]
    },
    {
      "cell_type": "code",
      "metadata": {
        "id": "ioBmVcailHO-"
      },
      "source": [
        "model.add(layers.Dense(256, activation='relu'))"
      ],
      "execution_count": null,
      "outputs": []
    },
    {
      "cell_type": "markdown",
      "metadata": {
        "id": "Xz1G-TJ3lHO-"
      },
      "source": [
        "\n",
        "### Decision layer\n",
        "\n",
        "The *softmax* function is the decision function.\n",
        "\n",
        "This function calculates a probability of belonging to one or other of the possible classes (10 digits <=> 10 classes).\n",
        "\n",
        "\n",
        "\n",
        "```\n",
        "model.add(layers.Dense(10, activation='softmax'))\n",
        "```\n",
        "\n",
        "\n",
        "\n",
        "Then, we choose a loss function, error function accordingly:\n",
        "```\n",
        "loss='categorical_crossentropy'\n",
        "```\n",
        "\n",
        "\n",
        "\n"
      ]
    },
    {
      "cell_type": "code",
      "metadata": {
        "id": "fiHC9n2nlHO-"
      },
      "source": [
        "model.add(layers.Dense(10, activation='softmax'))"
      ],
      "execution_count": null,
      "outputs": []
    },
    {
      "cell_type": "code",
      "metadata": {
        "colab": {
          "base_uri": "https://localhost:8080/",
          "height": 408
        },
        "id": "0djXTnR2lHO-",
        "outputId": "0682e75c-d7c4-4dae-af4f-f64853684a51"
      },
      "source": [
        "model.summary()"
      ],
      "execution_count": null,
      "outputs": [
        {
          "output_type": "stream",
          "text": [
            "_________________________________________________________________\n",
            "Layer (type)                 Output Shape              Param #   \n",
            "=================================================================\n",
            "conv2d_10 (Conv2D)           (None, 26, 26, 8)         80        \n",
            "_________________________________________________________________\n",
            "max_pooling2d_7 (MaxPooling2 (None, 13, 13, 8)         0         \n",
            "_________________________________________________________________\n",
            "conv2d_11 (Conv2D)           (None, 11, 11, 16)        1168      \n",
            "_________________________________________________________________\n",
            "max_pooling2d_8 (MaxPooling2 (None, 5, 5, 16)          0         \n",
            "_________________________________________________________________\n",
            "conv2d_12 (Conv2D)           (None, 3, 3, 16)          2320      \n",
            "_________________________________________________________________\n",
            "flatten_4 (Flatten)          (None, 144)               0         \n",
            "_________________________________________________________________\n",
            "dense_4 (Dense)              (None, 256)               37120     \n",
            "_________________________________________________________________\n",
            "dense_5 (Dense)              (None, 10)                2570      \n",
            "=================================================================\n",
            "Total params: 43,258\n",
            "Trainable params: 43,258\n",
            "Non-trainable params: 0\n",
            "_________________________________________________________________\n"
          ],
          "name": "stdout"
        }
      ]
    },
    {
      "cell_type": "code",
      "metadata": {
        "id": "Av6RXXLzlHO_"
      },
      "source": [
        "model.compile(optimizer='rmsprop',\n",
        "              loss='categorical_crossentropy',\n",
        "              metrics=['accuracy'])"
      ],
      "execution_count": null,
      "outputs": []
    },
    {
      "cell_type": "code",
      "metadata": {
        "colab": {
          "base_uri": "https://localhost:8080/",
          "height": 374
        },
        "id": "p0qJ2IH8lHO_",
        "outputId": "9361c83d-8158-4c22-923f-3a681a38e7d5"
      },
      "source": [
        "history = model.fit(train_images, \n",
        "          train_labels, \n",
        "          validation_split = 0.1,\n",
        "          epochs = 10, \n",
        "          batch_size = 500)"
      ],
      "execution_count": null,
      "outputs": [
        {
          "output_type": "stream",
          "text": [
            "Train on 54000 samples, validate on 6000 samples\n",
            "Epoch 1/10\n",
            "54000/54000 [==============================] - 2s 34us/step - loss: 0.6466 - acc: 0.8121 - val_loss: 0.2209 - val_acc: 0.9307\n",
            "Epoch 2/10\n",
            "54000/54000 [==============================] - 1s 28us/step - loss: 0.2188 - acc: 0.9316 - val_loss: 0.1327 - val_acc: 0.9582\n",
            "Epoch 3/10\n",
            "54000/54000 [==============================] - 1s 27us/step - loss: 0.1397 - acc: 0.9560 - val_loss: 0.0996 - val_acc: 0.9705\n",
            "Epoch 4/10\n",
            "54000/54000 [==============================] - 1s 27us/step - loss: 0.1073 - acc: 0.9667 - val_loss: 0.0746 - val_acc: 0.9770\n",
            "Epoch 5/10\n",
            "54000/54000 [==============================] - 1s 27us/step - loss: 0.0857 - acc: 0.9725 - val_loss: 0.0607 - val_acc: 0.9825\n",
            "Epoch 6/10\n",
            "54000/54000 [==============================] - 1s 27us/step - loss: 0.0731 - acc: 0.9768 - val_loss: 0.0590 - val_acc: 0.9815\n",
            "Epoch 7/10\n",
            "54000/54000 [==============================] - 1s 27us/step - loss: 0.0617 - acc: 0.9807 - val_loss: 0.0718 - val_acc: 0.9788\n",
            "Epoch 8/10\n",
            "54000/54000 [==============================] - 1s 27us/step - loss: 0.0556 - acc: 0.9821 - val_loss: 0.0462 - val_acc: 0.9853\n",
            "Epoch 9/10\n",
            "54000/54000 [==============================] - 1s 27us/step - loss: 0.0488 - acc: 0.9843 - val_loss: 0.0492 - val_acc: 0.9853\n",
            "Epoch 10/10\n",
            "54000/54000 [==============================] - 1s 27us/step - loss: 0.0442 - acc: 0.9858 - val_loss: 0.0555 - val_acc: 0.9845\n"
          ],
          "name": "stdout"
        }
      ]
    },
    {
      "cell_type": "markdown",
      "metadata": {
        "id": "wFENckR_lHO_"
      },
      "source": [
        "### Draw the learning curve\n",
        "\n",
        "Did you think the learning went well ?"
      ]
    },
    {
      "cell_type": "code",
      "metadata": {
        "colab": {
          "base_uri": "https://localhost:8080/",
          "height": 364
        },
        "id": "xAwSwPc9lHPA",
        "outputId": "e23c469a-bbac-461d-f685-019012975f73"
      },
      "source": [
        "pl.figure()\n",
        "pl.plot(history.history['loss'])\n",
        "pl.plot(history.history['val_loss'])"
      ],
      "execution_count": null,
      "outputs": [
        {
          "output_type": "execute_result",
          "data": {
            "text/plain": [
              "[<matplotlib.lines.Line2D at 0x7f25402eb450>]"
            ]
          },
          "metadata": {
            "tags": []
          },
          "execution_count": 36
        },
        {
          "output_type": "display_data",
          "data": {
            "image/png": "[encoded data removed]",
            "text/plain": [
              "<Figure size 576x396 with 1 Axes>"
            ]
          },
          "metadata": {
            "tags": []
          }
        }
      ]
    },
    {
      "cell_type": "markdown",
      "metadata": {
        "id": "MbHgA4p7lHPA"
      },
      "source": [
        "## Performance du modèle \n",
        "Accuracy : % of well-classified instances."
      ]
    },
    {
      "cell_type": "code",
      "metadata": {
        "colab": {
          "base_uri": "https://localhost:8080/",
          "height": 51
        },
        "id": "C_sD76kvlHPA",
        "outputId": "5ec46446-9765-4ebf-d81c-f0d0e6aedfe2"
      },
      "source": [
        "# Evaluation\n",
        "print(model.evaluate(test_images, test_labels))"
      ],
      "execution_count": null,
      "outputs": [
        {
          "output_type": "stream",
          "text": [
            "10000/10000 [==============================] - 1s 71us/step\n",
            "[0.046412392889498735, 0.9858]\n"
          ],
          "name": "stdout"
        }
      ]
    },
    {
      "cell_type": "code",
      "metadata": {
        "colab": {
          "base_uri": "https://localhost:8080/"
        },
        "id": "8wRWzKgZlHPA",
        "outputId": "6c386d49-72a7-4ca1-a9e3-e0f7b6a06c15"
      },
      "source": [
        "6e4*0.0 # > 0.99996"
      ],
      "execution_count": null,
      "outputs": [
        {
          "output_type": "execute_result",
          "data": {
            "text/plain": [
              "900.0"
            ]
          },
          "metadata": {
            "tags": []
          },
          "execution_count": 24
        }
      ]
    },
    {
      "cell_type": "markdown",
      "metadata": {
        "id": "x4xLb7BQlHPA"
      },
      "source": [
        "### Exercice\n",
        "\n",
        "Make changes in the network and compare your results to what we done\n"
      ]
    },
    {
      "cell_type": "code",
      "metadata": {
        "id": "LRju4TC7lHPB"
      },
      "source": [
        ""
      ],
      "execution_count": null,
      "outputs": []
    },
    {
      "cell_type": "markdown",
      "metadata": {
        "id": "Moa7cnA5lHPB"
      },
      "source": [
        "# Data augmentation\n"
      ]
    },
    {
      "cell_type": "code",
      "metadata": {
        "id": "U87fo8GvlHPB"
      },
      "source": [
        "#==========\n",
        "# IMPORT DATA\n",
        "#==========\n",
        "from keras.datasets import mnist\n",
        "from keras import models\n",
        "from keras import layers\n",
        "import numpy as np\n",
        "# \n",
        "from keras.preprocessing.image import ImageDataGenerator\n",
        "import  matplotlib.pyplot as pl\n",
        "\n",
        "(train_images, train_labels), (test_images, test_labels) = mnist.load_data()\n",
        "\n",
        "# 4 axis : samples,  width, height, channel \n",
        "train_images = train_images.reshape(train_images.shape[0], 28, 28 , 1)\n",
        "train_images = train_images.astype('float32')"
      ],
      "execution_count": null,
      "outputs": []
    },
    {
      "cell_type": "code",
      "metadata": {
        "colab": {
          "base_uri": "https://localhost:8080/"
        },
        "id": "0ZdSPlj8lHPB",
        "outputId": "5e1fd34d-6f2b-4249-9841-158c2515a46f"
      },
      "source": [
        "help(ImageDataGenerator)"
      ],
      "execution_count": null,
      "outputs": [
        {
          "output_type": "stream",
          "text": [
            "Help on class ImageDataGenerator in module tensorflow.python.keras.preprocessing.image:\n",
            "\n",
            "class ImageDataGenerator(keras_preprocessing.image.image_data_generator.ImageDataGenerator)\n",
            " |  Generate batches of tensor image data with real-time data augmentation.\n",
            " |  \n",
            " |   The data will be looped over (in batches).\n",
            " |  \n",
            " |  Arguments:\n",
            " |      featurewise_center: Boolean.\n",
            " |          Set input mean to 0 over the dataset, feature-wise.\n",
            " |      samplewise_center: Boolean. Set each sample mean to 0.\n",
            " |      featurewise_std_normalization: Boolean.\n",
            " |          Divide inputs by std of the dataset, feature-wise.\n",
            " |      samplewise_std_normalization: Boolean. Divide each input by its std.\n",
            " |      zca_epsilon: epsilon for ZCA whitening. Default is 1e-6.\n",
            " |      zca_whitening: Boolean. Apply ZCA whitening.\n",
            " |      rotation_range: Int. Degree range for random rotations.\n",
            " |      width_shift_range: Float, 1-D array-like or int\n",
            " |          - float: fraction of total width, if < 1, or pixels if >= 1.\n",
            " |          - 1-D array-like: random elements from the array.\n",
            " |          - int: integer number of pixels from interval\n",
            " |              `(-width_shift_range, +width_shift_range)`\n",
            " |          - With `width_shift_range=2` possible values\n",
            " |              are integers `[-1, 0, +1]`,\n",
            " |              same as with `width_shift_range=[-1, 0, +1]`,\n",
            " |              while with `width_shift_range=1.0` possible values are floats\n",
            " |              in the interval [-1.0, +1.0).\n",
            " |      height_shift_range: Float, 1-D array-like or int\n",
            " |          - float: fraction of total height, if < 1, or pixels if >= 1.\n",
            " |          - 1-D array-like: random elements from the array.\n",
            " |          - int: integer number of pixels from interval\n",
            " |              `(-height_shift_range, +height_shift_range)`\n",
            " |          - With `height_shift_range=2` possible values\n",
            " |              are integers `[-1, 0, +1]`,\n",
            " |              same as with `height_shift_range=[-1, 0, +1]`,\n",
            " |              while with `height_shift_range=1.0` possible values are floats\n",
            " |              in the interval [-1.0, +1.0).\n",
            " |      brightness_range: Tuple or list of two floats. Range for picking\n",
            " |          a brightness shift value from.\n",
            " |      shear_range: Float. Shear Intensity\n",
            " |          (Shear angle in counter-clockwise direction in degrees)\n",
            " |      zoom_range: Float or [lower, upper]. Range for random zoom.\n",
            " |          If a float, `[lower, upper] = [1-zoom_range, 1+zoom_range]`.\n",
            " |      channel_shift_range: Float. Range for random channel shifts.\n",
            " |      fill_mode: One of {\"constant\", \"nearest\", \"reflect\" or \"wrap\"}.\n",
            " |          Default is 'nearest'.\n",
            " |          Points outside the boundaries of the input are filled\n",
            " |          according to the given mode:\n",
            " |          - 'constant': kkkkkkkk|abcd|kkkkkkkk (cval=k)\n",
            " |          - 'nearest':  aaaaaaaa|abcd|dddddddd\n",
            " |          - 'reflect':  abcddcba|abcd|dcbaabcd\n",
            " |          - 'wrap':  abcdabcd|abcd|abcdabcd\n",
            " |      cval: Float or Int.\n",
            " |          Value used for points outside the boundaries\n",
            " |          when `fill_mode = \"constant\"`.\n",
            " |      horizontal_flip: Boolean. Randomly flip inputs horizontally.\n",
            " |      vertical_flip: Boolean. Randomly flip inputs vertically.\n",
            " |      rescale: rescaling factor. Defaults to None.\n",
            " |          If None or 0, no rescaling is applied,\n",
            " |          otherwise we multiply the data by the value provided\n",
            " |          (after applying all other transformations).\n",
            " |      preprocessing_function: function that will be applied on each input.\n",
            " |          The function will run after the image is resized and augmented.\n",
            " |          The function should take one argument:\n",
            " |          one image (Numpy tensor with rank 3),\n",
            " |          and should output a Numpy tensor with the same shape.\n",
            " |      data_format: Image data format,\n",
            " |          either \"channels_first\" or \"channels_last\".\n",
            " |          \"channels_last\" mode means that the images should have shape\n",
            " |          `(samples, height, width, channels)`,\n",
            " |          \"channels_first\" mode means that the images should have shape\n",
            " |          `(samples, channels, height, width)`.\n",
            " |          It defaults to the `image_data_format` value found in your\n",
            " |          Keras config file at `~/.keras/keras.json`.\n",
            " |          If you never set it, then it will be \"channels_last\".\n",
            " |      validation_split: Float. Fraction of images reserved for validation\n",
            " |          (strictly between 0 and 1).\n",
            " |      dtype: Dtype to use for the generated arrays.\n",
            " |  \n",
            " |  Examples:\n",
            " |  \n",
            " |  Example of using `.flow(x, y)`:\n",
            " |  \n",
            " |  ```python\n",
            " |  (x_train, y_train), (x_test, y_test) = cifar10.load_data()\n",
            " |  y_train = np_utils.to_categorical(y_train, num_classes)\n",
            " |  y_test = np_utils.to_categorical(y_test, num_classes)\n",
            " |  datagen = ImageDataGenerator(\n",
            " |      featurewise_center=True,\n",
            " |      featurewise_std_normalization=True,\n",
            " |      rotation_range=20,\n",
            " |      width_shift_range=0.2,\n",
            " |      height_shift_range=0.2,\n",
            " |      horizontal_flip=True)\n",
            " |  # compute quantities required for featurewise normalization\n",
            " |  # (std, mean, and principal components if ZCA whitening is applied)\n",
            " |  datagen.fit(x_train)\n",
            " |  # fits the model on batches with real-time data augmentation:\n",
            " |  model.fit(datagen.flow(x_train, y_train, batch_size=32),\n",
            " |            steps_per_epoch=len(x_train) / 32, epochs=epochs)\n",
            " |  # here's a more \"manual\" example\n",
            " |  for e in range(epochs):\n",
            " |      print('Epoch', e)\n",
            " |      batches = 0\n",
            " |      for x_batch, y_batch in datagen.flow(x_train, y_train, batch_size=32):\n",
            " |          model.fit(x_batch, y_batch)\n",
            " |          batches += 1\n",
            " |          if batches >= len(x_train) / 32:\n",
            " |              # we need to break the loop by hand because\n",
            " |              # the generator loops indefinitely\n",
            " |              break\n",
            " |  ```\n",
            " |  \n",
            " |  Example of using `.flow_from_directory(directory)`:\n",
            " |  \n",
            " |  ```python\n",
            " |  train_datagen = ImageDataGenerator(\n",
            " |          rescale=1./255,\n",
            " |          shear_range=0.2,\n",
            " |          zoom_range=0.2,\n",
            " |          horizontal_flip=True)\n",
            " |  test_datagen = ImageDataGenerator(rescale=1./255)\n",
            " |  train_generator = train_datagen.flow_from_directory(\n",
            " |          'data/train',\n",
            " |          target_size=(150, 150),\n",
            " |          batch_size=32,\n",
            " |          class_mode='binary')\n",
            " |  validation_generator = test_datagen.flow_from_directory(\n",
            " |          'data/validation',\n",
            " |          target_size=(150, 150),\n",
            " |          batch_size=32,\n",
            " |          class_mode='binary')\n",
            " |  model.fit(\n",
            " |          train_generator,\n",
            " |          steps_per_epoch=2000,\n",
            " |          epochs=50,\n",
            " |          validation_data=validation_generator,\n",
            " |          validation_steps=800)\n",
            " |  ```\n",
            " |  \n",
            " |  Example of transforming images and masks together.\n",
            " |  \n",
            " |  ```python\n",
            " |  # we create two instances with the same arguments\n",
            " |  data_gen_args = dict(featurewise_center=True,\n",
            " |                       featurewise_std_normalization=True,\n",
            " |                       rotation_range=90,\n",
            " |                       width_shift_range=0.1,\n",
            " |                       height_shift_range=0.1,\n",
            " |                       zoom_range=0.2)\n",
            " |  image_datagen = ImageDataGenerator(**data_gen_args)\n",
            " |  mask_datagen = ImageDataGenerator(**data_gen_args)\n",
            " |  # Provide the same seed and keyword arguments to the fit and flow methods\n",
            " |  seed = 1\n",
            " |  image_datagen.fit(images, augment=True, seed=seed)\n",
            " |  mask_datagen.fit(masks, augment=True, seed=seed)\n",
            " |  image_generator = image_datagen.flow_from_directory(\n",
            " |      'data/images',\n",
            " |      class_mode=None,\n",
            " |      seed=seed)\n",
            " |  mask_generator = mask_datagen.flow_from_directory(\n",
            " |      'data/masks',\n",
            " |      class_mode=None,\n",
            " |      seed=seed)\n",
            " |  # combine generators into one which yields image and masks\n",
            " |  train_generator = zip(image_generator, mask_generator)\n",
            " |  model.fit(\n",
            " |      train_generator,\n",
            " |      steps_per_epoch=2000,\n",
            " |      epochs=50)\n",
            " |  ```\n",
            " |  \n",
            " |  Method resolution order:\n",
            " |      ImageDataGenerator\n",
            " |      keras_preprocessing.image.image_data_generator.ImageDataGenerator\n",
            " |      builtins.object\n",
            " |  \n",
            " |  Methods defined here:\n",
            " |  \n",
            " |  __init__(self, featurewise_center=False, samplewise_center=False, featurewise_std_normalization=False, samplewise_std_normalization=False, zca_whitening=False, zca_epsilon=1e-06, rotation_range=0, width_shift_range=0.0, height_shift_range=0.0, brightness_range=None, shear_range=0.0, zoom_range=0.0, channel_shift_range=0.0, fill_mode='nearest', cval=0.0, horizontal_flip=False, vertical_flip=False, rescale=None, preprocessing_function=None, data_format=None, validation_split=0.0, dtype=None)\n",
            " |      Initialize self.  See help(type(self)) for accurate signature.\n",
            " |  \n",
            " |  flow(self, x, y=None, batch_size=32, shuffle=True, sample_weight=None, seed=None, save_to_dir=None, save_prefix='', save_format='png', subset=None)\n",
            " |      Takes data & label arrays, generates batches of augmented data.\n",
            " |      \n",
            " |      Arguments:\n",
            " |          x: Input data. Numpy array of rank 4 or a tuple. If tuple, the first\n",
            " |            element should contain the images and the second element another numpy\n",
            " |            array or a list of numpy arrays that gets passed to the output without\n",
            " |            any modifications. Can be used to feed the model miscellaneous data\n",
            " |            along with the images. In case of grayscale data, the channels axis of\n",
            " |            the image array should have value 1, in case of RGB data, it should\n",
            " |            have value 3, and in case of RGBA data, it should have value 4.\n",
            " |          y: Labels.\n",
            " |          batch_size: Int (default: 32).\n",
            " |          shuffle: Boolean (default: True).\n",
            " |          sample_weight: Sample weights.\n",
            " |          seed: Int (default: None).\n",
            " |          save_to_dir: None or str (default: None). This allows you to optionally\n",
            " |            specify a directory to which to save the augmented pictures being\n",
            " |            generated (useful for visualizing what you are doing).\n",
            " |          save_prefix: Str (default: `''`). Prefix to use for filenames of saved\n",
            " |            pictures (only relevant if `save_to_dir` is set).\n",
            " |          save_format: one of \"png\", \"jpeg\"\n",
            " |              (only relevant if `save_to_dir` is set). Default: \"png\".\n",
            " |          subset: Subset of data (`\"training\"` or `\"validation\"`) if\n",
            " |            `validation_split` is set in `ImageDataGenerator`.\n",
            " |      \n",
            " |      Returns:\n",
            " |          An `Iterator` yielding tuples of `(x, y)`\n",
            " |              where `x` is a numpy array of image data\n",
            " |              (in the case of a single image input) or a list\n",
            " |              of numpy arrays (in the case with\n",
            " |              additional inputs) and `y` is a numpy array\n",
            " |              of corresponding labels. If 'sample_weight' is not None,\n",
            " |              the yielded tuples are of the form `(x, y, sample_weight)`.\n",
            " |              If `y` is None, only the numpy array `x` is returned.\n",
            " |  \n",
            " |  flow_from_dataframe(self, dataframe, directory=None, x_col='filename', y_col='class', weight_col=None, target_size=(256, 256), color_mode='rgb', classes=None, class_mode='categorical', batch_size=32, shuffle=True, seed=None, save_to_dir=None, save_prefix='', save_format='png', subset=None, interpolation='nearest', validate_filenames=True, **kwargs)\n",
            " |      Takes the dataframe and the path to a directory + generates batches.\n",
            " |      \n",
            " |       The generated batches contain augmented/normalized data.\n",
            " |      \n",
            " |      **A simple tutorial can be found **[here](\n",
            " |                                  http://bit.ly/keras_flow_from_dataframe).\n",
            " |      \n",
            " |      Arguments:\n",
            " |          dataframe: Pandas dataframe containing the filepaths relative to\n",
            " |            `directory` (or absolute paths if `directory` is None) of the images\n",
            " |            in a string column. It should include other column/s\n",
            " |              depending on the `class_mode`: - if `class_mode` is `\"categorical\"`\n",
            " |                (default value) it must include the `y_col` column with the\n",
            " |                class/es of each image. Values in column can be string/list/tuple\n",
            " |                if a single class or list/tuple if multiple classes. - if\n",
            " |                `class_mode` is `\"binary\"` or `\"sparse\"` it must include the given\n",
            " |                `y_col` column with class values as strings. - if `class_mode` is\n",
            " |                `\"raw\"` or `\"multi_output\"` it should contain the columns\n",
            " |                specified in `y_col`. - if `class_mode` is `\"input\"` or `None` no\n",
            " |                extra column is needed.\n",
            " |          directory: string, path to the directory to read images from. If `None`,\n",
            " |            data in `x_col` column should be absolute paths.\n",
            " |          x_col: string, column in `dataframe` that contains the filenames (or\n",
            " |            absolute paths if `directory` is `None`).\n",
            " |          y_col: string or list, column/s in `dataframe` that has the target data.\n",
            " |          weight_col: string, column in `dataframe` that contains the sample\n",
            " |              weights. Default: `None`.\n",
            " |          target_size: tuple of integers `(height, width)`, default: `(256, 256)`.\n",
            " |            The dimensions to which all images found will be resized.\n",
            " |          color_mode: one of \"grayscale\", \"rgb\", \"rgba\". Default: \"rgb\". Whether\n",
            " |            the images will be converted to have 1 or 3 color channels.\n",
            " |          classes: optional list of classes (e.g. `['dogs', 'cats']`). Default is\n",
            " |            None. If not provided, the list of classes will be automatically\n",
            " |            inferred from the `y_col`, which will map to the label indices, will\n",
            " |            be alphanumeric). The dictionary containing the mapping from class\n",
            " |            names to class indices can be obtained via the attribute\n",
            " |            `class_indices`.\n",
            " |          class_mode: one of \"binary\", \"categorical\", \"input\", \"multi_output\",\n",
            " |              \"raw\", sparse\" or None. Default: \"categorical\".\n",
            " |              Mode for yielding the targets:\n",
            " |              - `\"binary\"`: 1D numpy array of binary labels,\n",
            " |              - `\"categorical\"`: 2D numpy array of one-hot encoded labels.\n",
            " |                Supports multi-label output.\n",
            " |              - `\"input\"`: images identical to input images (mainly used to work\n",
            " |                with autoencoders),\n",
            " |              - `\"multi_output\"`: list with the values of the different columns,\n",
            " |              - `\"raw\"`: numpy array of values in `y_col` column(s),\n",
            " |              - `\"sparse\"`: 1D numpy array of integer labels, - `None`, no targets\n",
            " |                are returned (the generator will only yield batches of image data,\n",
            " |                which is useful to use in `model.predict()`).\n",
            " |          batch_size: size of the batches of data (default: 32).\n",
            " |          shuffle: whether to shuffle the data (default: True)\n",
            " |          seed: optional random seed for shuffling and transformations.\n",
            " |          save_to_dir: None or str (default: None). This allows you to optionally\n",
            " |            specify a directory to which to save the augmented pictures being\n",
            " |            generated (useful for visualizing what you are doing).\n",
            " |          save_prefix: str. Prefix to use for filenames of saved pictures (only\n",
            " |            relevant if `save_to_dir` is set).\n",
            " |          save_format: one of \"png\", \"jpeg\"\n",
            " |              (only relevant if `save_to_dir` is set). Default: \"png\".\n",
            " |          subset: Subset of data (`\"training\"` or `\"validation\"`) if\n",
            " |            `validation_split` is set in `ImageDataGenerator`.\n",
            " |          interpolation: Interpolation method used to resample the image if the\n",
            " |            target size is different from that of the loaded image. Supported\n",
            " |            methods are `\"nearest\"`, `\"bilinear\"`, and `\"bicubic\"`. If PIL version\n",
            " |            1.1.3 or newer is installed, `\"lanczos\"` is also supported. If PIL\n",
            " |            version 3.4.0 or newer is installed, `\"box\"` and `\"hamming\"` are also\n",
            " |            supported. By default, `\"nearest\"` is used.\n",
            " |          validate_filenames: Boolean, whether to validate image filenames in\n",
            " |            `x_col`. If `True`, invalid images will be ignored. Disabling this\n",
            " |            option can lead to speed-up in the execution of this function.\n",
            " |            Defaults to `True`.\n",
            " |          **kwargs: legacy arguments for raising deprecation warnings.\n",
            " |      \n",
            " |      Returns:\n",
            " |          A `DataFrameIterator` yielding tuples of `(x, y)`\n",
            " |          where `x` is a numpy array containing a batch\n",
            " |          of images with shape `(batch_size, *target_size, channels)`\n",
            " |          and `y` is a numpy array of corresponding labels.\n",
            " |  \n",
            " |  flow_from_directory(self, directory, target_size=(256, 256), color_mode='rgb', classes=None, class_mode='categorical', batch_size=32, shuffle=True, seed=None, save_to_dir=None, save_prefix='', save_format='png', follow_links=False, subset=None, interpolation='nearest')\n",
            " |      Takes the path to a directory & generates batches of augmented data.\n",
            " |      \n",
            " |      Arguments:\n",
            " |          directory: string, path to the target directory. It should contain one\n",
            " |            subdirectory per class. Any PNG, JPG, BMP, PPM or TIF images inside\n",
            " |            each of the subdirectories directory tree will be included in the\n",
            " |            generator. See [this script](\n",
            " |              https://gist.github.com/fchollet/0830affa1f7f19fd47b06d4cf89ed44d)\n",
            " |                for more details.\n",
            " |          target_size: Tuple of integers `(height, width)`, defaults to `(256,\n",
            " |            256)`. The dimensions to which all images found will be resized.\n",
            " |          color_mode: One of \"grayscale\", \"rgb\", \"rgba\". Default: \"rgb\". Whether\n",
            " |            the images will be converted to have 1, 3, or 4 channels.\n",
            " |          classes: Optional list of class subdirectories\n",
            " |              (e.g. `['dogs', 'cats']`). Default: None. If not provided, the list\n",
            " |                of classes will be automatically inferred from the subdirectory\n",
            " |                names/structure under `directory`, where each subdirectory will be\n",
            " |                treated as a different class (and the order of the classes, which\n",
            " |                will map to the label indices, will be alphanumeric). The\n",
            " |                dictionary containing the mapping from class names to class\n",
            " |                indices can be obtained via the attribute `class_indices`.\n",
            " |          class_mode: One of \"categorical\", \"binary\", \"sparse\",\n",
            " |              \"input\", or None. Default: \"categorical\".\n",
            " |              Determines the type of label arrays that are returned: -\n",
            " |                \"categorical\" will be 2D one-hot encoded labels, - \"binary\" will\n",
            " |                be 1D binary labels, \"sparse\" will be 1D integer labels, - \"input\"\n",
            " |                will be images identical to input images (mainly used to work with\n",
            " |                autoencoders). - If None, no labels are returned (the generator\n",
            " |                will only yield batches of image data, which is useful to use with\n",
            " |                `model.predict()`). Please note that in case of\n",
            " |                class_mode None, the data still needs to reside in a subdirectory\n",
            " |                of `directory` for it to work correctly.\n",
            " |          batch_size: Size of the batches of data (default: 32).\n",
            " |          shuffle: Whether to shuffle the data (default: True) If set to False,\n",
            " |            sorts the data in alphanumeric order.\n",
            " |          seed: Optional random seed for shuffling and transformations.\n",
            " |          save_to_dir: None or str (default: None). This allows you to optionally\n",
            " |            specify a directory to which to save the augmented pictures being\n",
            " |            generated (useful for visualizing what you are doing).\n",
            " |          save_prefix: Str. Prefix to use for filenames of saved pictures (only\n",
            " |            relevant if `save_to_dir` is set).\n",
            " |          save_format: One of \"png\", \"jpeg\"\n",
            " |              (only relevant if `save_to_dir` is set). Default: \"png\".\n",
            " |          follow_links: Whether to follow symlinks inside\n",
            " |              class subdirectories (default: False).\n",
            " |          subset: Subset of data (`\"training\"` or `\"validation\"`) if\n",
            " |            `validation_split` is set in `ImageDataGenerator`.\n",
            " |          interpolation: Interpolation method used to resample the image if the\n",
            " |            target size is different from that of the loaded image. Supported\n",
            " |            methods are `\"nearest\"`, `\"bilinear\"`, and `\"bicubic\"`. If PIL version\n",
            " |            1.1.3 or newer is installed, `\"lanczos\"` is also supported. If PIL\n",
            " |            version 3.4.0 or newer is installed, `\"box\"` and `\"hamming\"` are also\n",
            " |            supported. By default, `\"nearest\"` is used.\n",
            " |      \n",
            " |      Returns:\n",
            " |          A `DirectoryIterator` yielding tuples of `(x, y)`\n",
            " |              where `x` is a numpy array containing a batch\n",
            " |              of images with shape `(batch_size, *target_size, channels)`\n",
            " |              and `y` is a numpy array of corresponding labels.\n",
            " |  \n",
            " |  ----------------------------------------------------------------------\n",
            " |  Methods inherited from keras_preprocessing.image.image_data_generator.ImageDataGenerator:\n",
            " |  \n",
            " |  apply_transform(self, x, transform_parameters)\n",
            " |      Applies a transformation to an image according to given parameters.\n",
            " |      \n",
            " |      # Arguments\n",
            " |          x: 3D tensor, single image.\n",
            " |          transform_parameters: Dictionary with string - parameter pairs\n",
            " |              describing the transformation.\n",
            " |              Currently, the following parameters\n",
            " |              from the dictionary are used:\n",
            " |              - `'theta'`: Float. Rotation angle in degrees.\n",
            " |              - `'tx'`: Float. Shift in the x direction.\n",
            " |              - `'ty'`: Float. Shift in the y direction.\n",
            " |              - `'shear'`: Float. Shear angle in degrees.\n",
            " |              - `'zx'`: Float. Zoom in the x direction.\n",
            " |              - `'zy'`: Float. Zoom in the y direction.\n",
            " |              - `'flip_horizontal'`: Boolean. Horizontal flip.\n",
            " |              - `'flip_vertical'`: Boolean. Vertical flip.\n",
            " |              - `'channel_shift_intensity'`: Float. Channel shift intensity.\n",
            " |              - `'brightness'`: Float. Brightness shift intensity.\n",
            " |      \n",
            " |      # Returns\n",
            " |          A transformed version of the input (same shape).\n",
            " |  \n",
            " |  fit(self, x, augment=False, rounds=1, seed=None)\n",
            " |      Fits the data generator to some sample data.\n",
            " |      \n",
            " |      This computes the internal data stats related to the\n",
            " |      data-dependent transformations, based on an array of sample data.\n",
            " |      \n",
            " |      Only required if `featurewise_center` or\n",
            " |      `featurewise_std_normalization` or `zca_whitening` are set to True.\n",
            " |      \n",
            " |      When `rescale` is set to a value, rescaling is applied to\n",
            " |      sample data before computing the internal data stats.\n",
            " |      \n",
            " |      # Arguments\n",
            " |          x: Sample data. Should have rank 4.\n",
            " |           In case of grayscale data,\n",
            " |           the channels axis should have value 1, in case\n",
            " |           of RGB data, it should have value 3, and in case\n",
            " |           of RGBA data, it should have value 4.\n",
            " |          augment: Boolean (default: False).\n",
            " |              Whether to fit on randomly augmented samples.\n",
            " |          rounds: Int (default: 1).\n",
            " |              If using data augmentation (`augment=True`),\n",
            " |              this is how many augmentation passes over the data to use.\n",
            " |          seed: Int (default: None). Random seed.\n",
            " |  \n",
            " |  get_random_transform(self, img_shape, seed=None)\n",
            " |      Generates random parameters for a transformation.\n",
            " |      \n",
            " |      # Arguments\n",
            " |          seed: Random seed.\n",
            " |          img_shape: Tuple of integers.\n",
            " |              Shape of the image that is transformed.\n",
            " |      \n",
            " |      # Returns\n",
            " |          A dictionary containing randomly chosen parameters describing the\n",
            " |          transformation.\n",
            " |  \n",
            " |  random_transform(self, x, seed=None)\n",
            " |      Applies a random transformation to an image.\n",
            " |      \n",
            " |      # Arguments\n",
            " |          x: 3D tensor, single image.\n",
            " |          seed: Random seed.\n",
            " |      \n",
            " |      # Returns\n",
            " |          A randomly transformed version of the input (same shape).\n",
            " |  \n",
            " |  standardize(self, x)\n",
            " |      Applies the normalization configuration in-place to a batch of inputs.\n",
            " |      \n",
            " |      `x` is changed in-place since the function is mainly used internally\n",
            " |      to standardize images and feed them to your network. If a copy of `x`\n",
            " |      would be created instead it would have a significant performance cost.\n",
            " |      If you want to apply this method without changing the input in-place\n",
            " |      you can call the method creating a copy before:\n",
            " |      \n",
            " |      standardize(np.copy(x))\n",
            " |      \n",
            " |      # Arguments\n",
            " |          x: Batch of inputs to be normalized.\n",
            " |      \n",
            " |      # Returns\n",
            " |          The inputs, normalized.\n",
            " |  \n",
            " |  ----------------------------------------------------------------------\n",
            " |  Data descriptors inherited from keras_preprocessing.image.image_data_generator.ImageDataGenerator:\n",
            " |  \n",
            " |  __dict__\n",
            " |      dictionary for instance variables (if defined)\n",
            " |  \n",
            " |  __weakref__\n",
            " |      list of weak references to the object (if defined)\n",
            "\n"
          ],
          "name": "stdout"
        }
      ]
    },
    {
      "cell_type": "markdown",
      "metadata": {
        "id": "nWkvfJlclHPB"
      },
      "source": [
        "## Augmentation: implementation with Keras"
      ]
    },
    {
      "cell_type": "code",
      "metadata": {
        "colab": {
          "base_uri": "https://localhost:8080/",
          "height": 1000
        },
        "id": "h7Kek2-DlHPB",
        "outputId": "9ae6dd1d-abcd-494d-bbd1-a3807ea063d6"
      },
      "source": [
        "# Data preparation\n",
        "datagenerator = ImageDataGenerator(\n",
        "                                   # Define data preparation / increase: rotation\n",
        "                                   rotation_range = 90,\n",
        "                                   zoom_range=0.2, \n",
        "                                   # Zoom random\n",
        "                                   horizontal_flip = False,\n",
        "                                   # Flip random\n",
        "                                   vertical_flip = False,\n",
        "                                   width_shift_range = 0.1,\n",
        "                                   # Shift random horizontal \n",
        "                                   height_shift_range = 0.1)\n",
        " \n",
        "# Data training\n",
        "datagenerator.fit(train_images)\n",
        "# Configure batch. run : UN batch \n",
        "bcl = 0\n",
        "\n",
        "# Create the flow (a batch) after performing data augmentation :\n",
        "for batch_x, batch_y in datagenerator.flow(train_images, train_labels, batch_size = 1):\n",
        "    pl.figure()\n",
        "    pl.imshow(batch_x[0].reshape(28, 28), \n",
        "              cmap = pl.get_cmap('gray'))\n",
        "    bcl = bcl +1\n",
        "    pl.show()\n",
        "    if bcl > 3:\n",
        "      # Interruption du batch \n",
        "      break\n"
      ],
      "execution_count": null,
      "outputs": [
        {
          "output_type": "display_data",
          "data": {
            "image/png": "[encoded data removed]",
            "text/plain": [
              "<Figure size 432x288 with 1 Axes>"
            ]
          },
          "metadata": {
            "tags": [],
            "needs_background": "light"
          }
        },
        {
          "output_type": "display_data",
          "data": {
            "image/png": "[encoded data removed]",
            "text/plain": [
              "<Figure size 432x288 with 1 Axes>"
            ]
          },
          "metadata": {
            "tags": [],
            "needs_background": "light"
          }
        },
        {
          "output_type": "display_data",
          "data": {
            "image/png": "[encoded data removed]",
            "text/plain": [
              "<Figure size 432x288 with 1 Axes>"
            ]
          },
          "metadata": {
            "tags": [],
            "needs_background": "light"
          }
        },
        {
          "output_type": "display_data",
          "data": {
            "image/png": "[encoded data removed]",
            "text/plain": [
              "<Figure size 432x288 with 1 Axes>"
            ]
          },
          "metadata": {
            "tags": [],
            "needs_background": "light"
          }
        }
      ]
    }
  ]
}